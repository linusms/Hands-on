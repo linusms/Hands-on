{
  "nbformat": 4,
  "nbformat_minor": 0,
  "metadata": {
    "colab": {
      "provenance": [],
      "authorship_tag": "ABX9TyPimx9Rcmz0Ymc9zpwIVDA+",
      "include_colab_link": true
    },
    "kernelspec": {
      "name": "python3",
      "display_name": "Python 3"
    },
    "language_info": {
      "name": "python"
    }
  },
  "cells": [
    {
      "cell_type": "markdown",
      "metadata": {
        "id": "view-in-github",
        "colab_type": "text"
      },
      "source": [
        "<a href=\"https://colab.research.google.com/github/linusms/Hands-on/blob/main/chapter_7_practice.ipynb\" target=\"_parent\"><img src=\"https://colab.research.google.com/assets/colab-badge.svg\" alt=\"Open In Colab\"/></a>"
      ]
    },
    {
      "cell_type": "code",
      "execution_count": null,
      "metadata": {
        "id": "C1PCaaZjE0z4"
      },
      "outputs": [],
      "source": [
        "# 1. 개개의 분류기와 앙상블 방법의 성능차이"
      ]
    },
    {
      "cell_type": "code",
      "source": [
        "from sklearn.datasets import fetch_openml\n",
        "from sklearn.model_selection import train_test_split\n",
        "\n",
        "mnist=fetch_openml('mnist_784', version=1, as_frame=False)\n",
        "mnist.keys()\n",
        "\n",
        "# 훈련, 검증, 테스트 세트를 한번에 분리해주는 함수는 없으므로\n",
        "# train_test_split()을 두 번 사용하면 됨\n",
        "\n",
        "X_train_val, X_test, y_train_val, y_test=train_test_split(mnist.data, mnist.target,test_size=10000, random_state=42)\n",
        "X_train, X_val, y_train, y_val=train_test_split(X_train_val, y_train_val, test_size=10000, random_state=42)\n",
        "\n",
        "print(X_train.shape, X_val.shape, X_test.shape)"
      ],
      "metadata": {
        "colab": {
          "base_uri": "https://localhost:8080/"
        },
        "id": "bAzO5qweFDYX",
        "outputId": "5fa12f96-6585-473a-9a89-31685558b648"
      },
      "execution_count": 1,
      "outputs": [
        {
          "output_type": "stream",
          "name": "stdout",
          "text": [
            "(50000, 784) (10000, 784) (10000, 784)\n"
          ]
        }
      ]
    },
    {
      "cell_type": "code",
      "source": [
        "from sklearn.ensemble import RandomForestClassifier\n",
        "from sklearn.tree import ExtraTreeClassifier\n",
        "from sklearn.svm import SVC\n",
        "from sklearn.model_selection import GridSearchCV\n",
        "\n",
        "# 아래는 GridSearchCV로 최적 파라미터 찾기, but 시간 너무 오래 걸리므로 실제 실행 X\n",
        "# 아무 변수도 안 넣고 실행해도 5분 걸리니, 엄청 많이 시간 소요되는 코드\n",
        "rnd_forest=RandomForestClassifier()\n",
        "rnd_param=[{'max_depth':list(range(10)), 'max_leaf_nodes':list(range(2,100)),'random_state':[42]}]\n",
        "ex_tree=ExtraTreeClassifier()\n",
        "\n",
        "ex_param=[{'max_depth':list(range(10)), 'max_leaf_nodes':list(range(2,100)), 'random_state':[42]}]\n",
        "svm=SVC()\n",
        "svm_param=[{'C':list(range(10)), 'kernel':'poly', 'degree':list(range(10)), 'random_state':[42]}]\n",
        "estimators=[rnd_forest, ex_tree, svm]\n",
        "params=[rnd_param, ex_param, svm_param]\n",
        "\n",
        "for estimator, param in zip(estimators, params):\n",
        "  grid_search=GridSearchCV(estimator, param, cv=3, verbose=1)\n",
        "  grid_search.fit(X_train, y_train)\n",
        "  print('%s' % estimator)\n",
        "  print(grid_search.best_params_)\n",
        "  print(grid_search.best_score_)\n",
        "\n"
      ],
      "metadata": {
        "id": "Ac-bwmK6FDaz"
      },
      "execution_count": null,
      "outputs": []
    },
    {
      "cell_type": "code",
      "source": [
        "from sklearn.ensemble import RandomForestClassifier\n",
        "from sklearn.ensemble import ExtraTreesClassifier\n",
        "from sklearn.svm import LinearSVC\n",
        "from sklearn.model_selection import GridSearchCV\n",
        "\n",
        "# 실행이 오래 걸려서 LinearSVC의 tol을 100으로 맞춤\n",
        "# 매우 높게 설정했으므로 정확도는 낮을듯\n",
        "\n",
        "rnd_forest = RandomForestClassifier(n_estimators=100, random_state=42)\n",
        "ex_tree = ExtraTreesClassifier(n_estimators=100, random_state=42)\n",
        "svm = LinearSVC(max_iter=100, tol=100, random_state=42)\n"
      ],
      "metadata": {
        "id": "hOva5gIdQZti"
      },
      "execution_count": 50,
      "outputs": []
    },
    {
      "cell_type": "code",
      "source": [
        "from sklearn.metrics import accuracy_score\n",
        "\n",
        "# 실행시간 39초\n",
        "\n",
        "rnd_forest.fit(X_train, y_train)\n",
        "rnd_forest.predict(X_val)\n",
        "y_pred=rnd_forest.predict(X_val)\n",
        "accuracy_score(y_val, y_pred)"
      ],
      "metadata": {
        "colab": {
          "base_uri": "https://localhost:8080/"
        },
        "id": "TX7IDlruOerL",
        "outputId": "399230d8-e802-49d7-9f97-e31bb45f09fe"
      },
      "execution_count": 51,
      "outputs": [
        {
          "output_type": "execute_result",
          "data": {
            "text/plain": [
              "0.9692"
            ]
          },
          "metadata": {},
          "execution_count": 51
        }
      ]
    },
    {
      "cell_type": "code",
      "source": [
        "# 실행시간 34초\n",
        "\n",
        "ex_tree.fit(X_train, y_train)\n",
        "ex_tree.predict(X_val)\n",
        "y_pred=ex_tree.predict(X_val)\n",
        "accuracy_score(y_val, y_pred)"
      ],
      "metadata": {
        "colab": {
          "base_uri": "https://localhost:8080/"
        },
        "id": "exSR_D4bFDpH",
        "outputId": "f6c0a923-1d06-488f-82a4-60aed2987f89"
      },
      "execution_count": 52,
      "outputs": [
        {
          "output_type": "execute_result",
          "data": {
            "text/plain": [
              "0.9715"
            ]
          },
          "metadata": {},
          "execution_count": 52
        }
      ]
    },
    {
      "cell_type": "code",
      "source": [
        "# 실행시간 1초\n",
        "\n",
        "svm.fit(X_train, y_train)\n",
        "y_pred=svm.predict(X_val)\n",
        "accuracy_score(y_val, y_pred)"
      ],
      "metadata": {
        "colab": {
          "base_uri": "https://localhost:8080/"
        },
        "id": "zO36Z7arNjbp",
        "outputId": "cd29fad4-02b2-4418-e2c0-af05047fb86c"
      },
      "execution_count": 53,
      "outputs": [
        {
          "output_type": "execute_result",
          "data": {
            "text/plain": [
              "0.859"
            ]
          },
          "metadata": {},
          "execution_count": 53
        }
      ]
    },
    {
      "cell_type": "code",
      "source": [
        "# 실행시간 1분\n",
        "\n",
        "estimators=[rnd_forest, ex_tree, svm]\n",
        "\n",
        "from sklearn.ensemble import VotingClassifier\n",
        "named_estimators = [\n",
        "    (\"random_forest_clf\", rnd_forest),\n",
        "    (\"extra_trees_clf\", ex_tree),\n",
        "    (\"svm_clf\", svm),\n",
        "]\n",
        "voting_clf = VotingClassifier(named_estimators)\n",
        "voting_clf.fit(X_train, y_train)\n",
        "voting_clf.score(X_val, y_val)"
      ],
      "metadata": {
        "colab": {
          "base_uri": "https://localhost:8080/"
        },
        "id": "_Uzys--UO8LP",
        "outputId": "885f6511-e49e-43c5-8aaa-4a15c251e161"
      },
      "execution_count": 54,
      "outputs": [
        {
          "output_type": "execute_result",
          "data": {
            "text/plain": [
              "0.9693"
            ]
          },
          "metadata": {},
          "execution_count": 54
        }
      ]
    },
    {
      "cell_type": "code",
      "source": [
        "# 원래대로라면 조금 상승했어야 되는데...이유를 모르겠음\n",
        "# 아마도 충분히 다양하지 않은 예측기 종류(MLPClassifier를 빼서)\n",
        "# 와 tol 값 설정 때문에 발생한 오차 때문인듯\n",
        "# 과적합 된 것 같기도 하다\n",
        "\n",
        "print(voting_clf.get_params())\n",
        "\n",
        "voting_clf.set_params(svm_clf=None)\n",
        "\n",
        "voting_clf.score(X_val, y_val)"
      ],
      "metadata": {
        "colab": {
          "base_uri": "https://localhost:8080/"
        },
        "id": "pjXsjODrQom1",
        "outputId": "35829162-5e83-4f7e-e159-c1b1540b9ec4"
      },
      "execution_count": 55,
      "outputs": [
        {
          "output_type": "stream",
          "name": "stdout",
          "text": [
            "{'estimators': [('random_forest_clf', RandomForestClassifier(random_state=42)), ('extra_trees_clf', ExtraTreesClassifier(random_state=42)), ('svm_clf', LinearSVC(max_iter=100, random_state=42, tol=100))], 'flatten_transform': True, 'n_jobs': None, 'verbose': False, 'voting': 'hard', 'weights': None, 'random_forest_clf': RandomForestClassifier(random_state=42), 'extra_trees_clf': ExtraTreesClassifier(random_state=42), 'svm_clf': LinearSVC(max_iter=100, random_state=42, tol=100), 'random_forest_clf__bootstrap': True, 'random_forest_clf__ccp_alpha': 0.0, 'random_forest_clf__class_weight': None, 'random_forest_clf__criterion': 'gini', 'random_forest_clf__max_depth': None, 'random_forest_clf__max_features': 'auto', 'random_forest_clf__max_leaf_nodes': None, 'random_forest_clf__max_samples': None, 'random_forest_clf__min_impurity_decrease': 0.0, 'random_forest_clf__min_samples_leaf': 1, 'random_forest_clf__min_samples_split': 2, 'random_forest_clf__min_weight_fraction_leaf': 0.0, 'random_forest_clf__n_estimators': 100, 'random_forest_clf__n_jobs': None, 'random_forest_clf__oob_score': False, 'random_forest_clf__random_state': 42, 'random_forest_clf__verbose': 0, 'random_forest_clf__warm_start': False, 'extra_trees_clf__bootstrap': False, 'extra_trees_clf__ccp_alpha': 0.0, 'extra_trees_clf__class_weight': None, 'extra_trees_clf__criterion': 'gini', 'extra_trees_clf__max_depth': None, 'extra_trees_clf__max_features': 'auto', 'extra_trees_clf__max_leaf_nodes': None, 'extra_trees_clf__max_samples': None, 'extra_trees_clf__min_impurity_decrease': 0.0, 'extra_trees_clf__min_samples_leaf': 1, 'extra_trees_clf__min_samples_split': 2, 'extra_trees_clf__min_weight_fraction_leaf': 0.0, 'extra_trees_clf__n_estimators': 100, 'extra_trees_clf__n_jobs': None, 'extra_trees_clf__oob_score': False, 'extra_trees_clf__random_state': 42, 'extra_trees_clf__verbose': 0, 'extra_trees_clf__warm_start': False, 'svm_clf__C': 1.0, 'svm_clf__class_weight': None, 'svm_clf__dual': True, 'svm_clf__fit_intercept': True, 'svm_clf__intercept_scaling': 1, 'svm_clf__loss': 'squared_hinge', 'svm_clf__max_iter': 100, 'svm_clf__multi_class': 'ovr', 'svm_clf__penalty': 'l2', 'svm_clf__random_state': 42, 'svm_clf__tol': 100, 'svm_clf__verbose': 0}\n"
          ]
        },
        {
          "output_type": "execute_result",
          "data": {
            "text/plain": [
              "0.9693"
            ]
          },
          "metadata": {},
          "execution_count": 55
        }
      ]
    },
    {
      "cell_type": "code",
      "source": [
        "voting_clf.estimators"
      ],
      "metadata": {
        "colab": {
          "base_uri": "https://localhost:8080/"
        },
        "id": "2s5RhtXAhGHT",
        "outputId": "984dc501-79f7-4ee9-8515-0030292e9214"
      },
      "execution_count": 43,
      "outputs": [
        {
          "output_type": "execute_result",
          "data": {
            "text/plain": [
              "[('random_forest_clf', RandomForestClassifier(random_state=42)),\n",
              " ('extra_trees_clf', ExtraTreesClassifier(random_state=42)),\n",
              " ('svm_clf', None)]"
            ]
          },
          "metadata": {},
          "execution_count": 43
        }
      ]
    },
    {
      "cell_type": "code",
      "source": [
        "# 2. 검증 세트에서 예측 만들고 그 결과로 새로운 훈련 세트 만들고 훈련해보기(블렌더 만들기)\n",
        "import numpy as np\n",
        "\n",
        "X_val_predictions = np.empty((len(X_val), len(estimators)), dtype=np.float32)\n",
        "\n",
        "\n",
        "for index, estimator in enumerate(estimators):\n",
        "\n",
        "\n",
        "  # 각 열이 서로 다른 예측기의 답을 예측한 것을 샘플마다 행의 값으로 받고있음\n",
        "    X_val_predictions[:, index] = estimator.predict(X_val)\n",
        "\n",
        "X_val_predictions"
      ],
      "metadata": {
        "colab": {
          "base_uri": "https://localhost:8080/"
        },
        "id": "d5KuB-rdFDsR",
        "outputId": "dd090959-3d3f-4a50-bc12-ffb3c40a0d95"
      },
      "execution_count": 57,
      "outputs": [
        {
          "output_type": "execute_result",
          "data": {
            "text/plain": [
              "array([[5., 5., 5.],\n",
              "       [8., 8., 8.],\n",
              "       [2., 2., 3.],\n",
              "       ...,\n",
              "       [7., 7., 7.],\n",
              "       [6., 6., 6.],\n",
              "       [7., 7., 7.]], dtype=float32)"
            ]
          },
          "metadata": {},
          "execution_count": 57
        }
      ]
    },
    {
      "cell_type": "code",
      "source": [
        "# 3개의 예측기에서 나온 10000개의 예측값들로 이루어진 행렬\n",
        "\n",
        "X_val_predictions.shape"
      ],
      "metadata": {
        "colab": {
          "base_uri": "https://localhost:8080/"
        },
        "id": "GybHSOUfjWHx",
        "outputId": "a1adf87f-b1fc-4850-88e0-74d78eac1eb1"
      },
      "execution_count": 62,
      "outputs": [
        {
          "output_type": "execute_result",
          "data": {
            "text/plain": [
              "(10000, 3)"
            ]
          },
          "metadata": {},
          "execution_count": 62
        }
      ]
    },
    {
      "cell_type": "code",
      "source": [
        "# 1번째 레이어의 예측기들의 예측값을 훈련 데이터로 훈련\n",
        "\n",
        "rnd_forest_blender = RandomForestClassifier(n_estimators=200, oob_score=True, random_state=42)\n",
        "rnd_forest_blender.fit(X_val_predictions, y_val)"
      ],
      "metadata": {
        "colab": {
          "base_uri": "https://localhost:8080/"
        },
        "id": "0KR8JROFFTWs",
        "outputId": "761b2562-f3f1-47b6-fb1c-4c9415ea9e08"
      },
      "execution_count": 58,
      "outputs": [
        {
          "output_type": "execute_result",
          "data": {
            "text/plain": [
              "RandomForestClassifier(n_estimators=200, oob_score=True, random_state=42)"
            ]
          },
          "metadata": {},
          "execution_count": 58
        }
      ]
    },
    {
      "cell_type": "code",
      "source": [
        "# oob 점수로 성능 확인\n",
        "\n",
        "rnd_forest_blender.oob_score_"
      ],
      "metadata": {
        "colab": {
          "base_uri": "https://localhost:8080/"
        },
        "id": "ED9XI8SeFTbM",
        "outputId": "faff0ff2-cb06-4ecb-a2de-2b1eb7feb96d"
      },
      "execution_count": 59,
      "outputs": [
        {
          "output_type": "execute_result",
          "data": {
            "text/plain": [
              "0.9703"
            ]
          },
          "metadata": {},
          "execution_count": 59
        }
      ]
    },
    {
      "cell_type": "code",
      "source": [
        "# 실제 테스트 세트에서 모델 평가해보기\n",
        "\n",
        "X_test_predictions = np.empty((len(X_test), len(estimators)), dtype=np.float32)\n",
        "\n",
        "for index, estimator in enumerate(estimators):\n",
        "    X_test_predictions[:, index] = estimator.predict(X_test)"
      ],
      "metadata": {
        "id": "JeZzlkCwFTcn"
      },
      "execution_count": 60,
      "outputs": []
    },
    {
      "cell_type": "code",
      "source": [
        "# 새로 훈련시킨 블렌더 모델의 성능\n",
        "# 앞서 나온 앙상블 모델보다 더 별로이다\n",
        "\n",
        "y_pred = rnd_forest_blender.predict(X_test_predictions)\n",
        "\n",
        "accuracy_score(y_test, y_pred)"
      ],
      "metadata": {
        "colab": {
          "base_uri": "https://localhost:8080/"
        },
        "id": "sCyYSqe3FTfn",
        "outputId": "efd31071-bbaa-4b1c-f1e8-2bb68751bae5"
      },
      "execution_count": 61,
      "outputs": [
        {
          "output_type": "execute_result",
          "data": {
            "text/plain": [
              "0.9661"
            ]
          },
          "metadata": {},
          "execution_count": 61
        }
      ]
    },
    {
      "cell_type": "code",
      "source": [],
      "metadata": {
        "id": "Jy27fRNuFTha"
      },
      "execution_count": null,
      "outputs": []
    }
  ]
}