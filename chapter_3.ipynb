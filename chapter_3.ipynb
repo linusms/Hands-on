{
  "nbformat": 4,
  "nbformat_minor": 0,
  "metadata": {
    "colab": {
      "provenance": [],
      "machine_shape": "hm",
      "authorship_tag": "ABX9TyMPHl39wrxJhPx8lZX+2mnF",
      "include_colab_link": true
    },
    "kernelspec": {
      "name": "python3",
      "display_name": "Python 3"
    },
    "language_info": {
      "name": "python"
    },
    "gpuClass": "standard"
  },
  "cells": [
    {
      "cell_type": "markdown",
      "metadata": {
        "id": "view-in-github",
        "colab_type": "text"
      },
      "source": [
        "<a href=\"https://colab.research.google.com/github/linusms/Hands-on/blob/main/chapter_3.ipynb\" target=\"_parent\"><img src=\"https://colab.research.google.com/assets/colab-badge.svg\" alt=\"Open In Colab\"/></a>"
      ]
    },
    {
      "cell_type": "code",
      "source": [
        "  !sudo apt-get install -y fonts-nanum\n",
        "  !sudo fc-cache -fv\n",
        "  !rm ~/.cache/matplotlib -rf\n",
        "\n",
        "  # 상단의 [런타임 - 런타임 다시 시작] 을 클릭하여 런타임을 재시작합니다."
      ],
      "metadata": {
        "colab": {
          "base_uri": "https://localhost:8080/"
        },
        "id": "CBDo1mHJX0QV",
        "outputId": "b2740e1a-ddbd-4d70-baeb-7b8257ace6cc"
      },
      "execution_count": null,
      "outputs": [
        {
          "output_type": "stream",
          "name": "stdout",
          "text": [
            "Reading package lists... Done\n",
            "Building dependency tree       \n",
            "Reading state information... Done\n",
            "The following package was automatically installed and is no longer required:\n",
            "  libnvidia-common-460\n",
            "Use 'sudo apt autoremove' to remove it.\n",
            "The following NEW packages will be installed:\n",
            "  fonts-nanum\n",
            "0 upgraded, 1 newly installed, 0 to remove and 20 not upgraded.\n",
            "Need to get 9,604 kB of archives.\n",
            "After this operation, 29.5 MB of additional disk space will be used.\n",
            "Get:1 http://archive.ubuntu.com/ubuntu bionic/universe amd64 fonts-nanum all 20170925-1 [9,604 kB]\n",
            "Fetched 9,604 kB in 0s (19.7 MB/s)\n",
            "debconf: unable to initialize frontend: Dialog\n",
            "debconf: (No usable dialog-like program is installed, so the dialog based frontend cannot be used. at /usr/share/perl5/Debconf/FrontEnd/Dialog.pm line 76, <> line 1.)\n",
            "debconf: falling back to frontend: Readline\n",
            "debconf: unable to initialize frontend: Readline\n",
            "debconf: (This frontend requires a controlling tty.)\n",
            "debconf: falling back to frontend: Teletype\n",
            "dpkg-preconfigure: unable to re-open stdin: \n",
            "Selecting previously unselected package fonts-nanum.\n",
            "(Reading database ... 124016 files and directories currently installed.)\n",
            "Preparing to unpack .../fonts-nanum_20170925-1_all.deb ...\n",
            "Unpacking fonts-nanum (20170925-1) ...\n",
            "Setting up fonts-nanum (20170925-1) ...\n",
            "Processing triggers for fontconfig (2.12.6-0ubuntu2) ...\n",
            "/usr/share/fonts: caching, new cache contents: 0 fonts, 1 dirs\n",
            "/usr/share/fonts/truetype: caching, new cache contents: 0 fonts, 3 dirs\n",
            "/usr/share/fonts/truetype/humor-sans: caching, new cache contents: 1 fonts, 0 dirs\n",
            "/usr/share/fonts/truetype/liberation: caching, new cache contents: 16 fonts, 0 dirs\n",
            "/usr/share/fonts/truetype/nanum: caching, new cache contents: 10 fonts, 0 dirs\n",
            "/usr/local/share/fonts: caching, new cache contents: 0 fonts, 0 dirs\n",
            "/root/.local/share/fonts: skipping, no such directory\n",
            "/root/.fonts: skipping, no such directory\n",
            "/var/cache/fontconfig: cleaning cache directory\n",
            "/root/.cache/fontconfig: not cleaning non-existent cache directory\n",
            "/root/.fontconfig: not cleaning non-existent cache directory\n",
            "fc-cache: succeeded\n"
          ]
        }
      ]
    },
    {
      "cell_type": "code",
      "source": [
        "import matplotlib.pyplot as plt\n",
        "\n",
        "plt.rc('font', family='NanumBarunGothic') "
      ],
      "metadata": {
        "id": "imXJo787SHV1"
      },
      "execution_count": null,
      "outputs": []
    },
    {
      "cell_type": "code",
      "execution_count": null,
      "metadata": {
        "colab": {
          "base_uri": "https://localhost:8080/"
        },
        "id": "RiLDXvxxi-Ns",
        "outputId": "47606a0d-8258-4deb-eec5-09d8cee6b75e"
      },
      "outputs": [
        {
          "output_type": "execute_result",
          "data": {
            "text/plain": [
              "dict_keys(['data', 'target', 'frame', 'categories', 'feature_names', 'target_names', 'DESCR', 'details', 'url'])"
            ]
          },
          "metadata": {},
          "execution_count": 2
        }
      ],
      "source": [
        "from sklearn.datasets import fetch_openml\n",
        "\n",
        "mnist=fetch_openml('mnist_784', version=1, as_frame=False)\n",
        "mnist.keys()\n"
      ]
    },
    {
      "cell_type": "code",
      "source": [
        "X,y=mnist['data'], mnist['target']\n",
        "X.shape"
      ],
      "metadata": {
        "colab": {
          "base_uri": "https://localhost:8080/"
        },
        "id": "7K8eQJFFkY4n",
        "outputId": "c9f9e88e-6f73-4de1-dd63-f8c1eb3e71df"
      },
      "execution_count": null,
      "outputs": [
        {
          "output_type": "execute_result",
          "data": {
            "text/plain": [
              "(70000, 784)"
            ]
          },
          "metadata": {},
          "execution_count": 3
        }
      ]
    },
    {
      "cell_type": "code",
      "source": [
        "y.shape"
      ],
      "metadata": {
        "colab": {
          "base_uri": "https://localhost:8080/"
        },
        "id": "XeerjVB4kaNe",
        "outputId": "a5c151ca-2d14-4b27-fe1b-70488914f000"
      },
      "execution_count": null,
      "outputs": [
        {
          "output_type": "execute_result",
          "data": {
            "text/plain": [
              "(70000,)"
            ]
          },
          "metadata": {},
          "execution_count": 4
        }
      ]
    },
    {
      "cell_type": "code",
      "source": [
        "import matplotlib as mpl\n",
        "import matplotlib.pyplot as plt\n",
        "import numpy as np\n",
        "\n",
        "# 70000개의 이미지에 각각 28*28=784개의 픽셀 존재. 각 픽셀마다 픽셀 강도(0~255)를 값으로 가짐\n",
        "# 샘플의 특성 벡터들, 1*784 배열을 28*28 배열로 나타냄(reshape)\n",
        "\n",
        "some_digit=X[0]\n",
        "some_digit_image=some_digit.reshape(28,28)\n",
        "\n",
        "\n",
        "plt.imshow(some_digit_image, cmap='binary')\n",
        "plt.axis('off')\n",
        "plt.show()\n",
        "\n",
        "# 해당 샘플의 레이블 확인. 유추했던 5와 같음\n",
        "# 레이블은 문자열. 이를 정수로 변환하는 게 머신러닝 알고리즘에 도움\n",
        "print(y[0])\n",
        "y=y.astype(np.uint8)"
      ],
      "metadata": {
        "colab": {
          "base_uri": "https://localhost:8080/",
          "height": 267
        },
        "id": "C15wa0YekaX2",
        "outputId": "6901c516-1a94-4400-b00e-0dda44edcd3b"
      },
      "execution_count": null,
      "outputs": [
        {
          "output_type": "display_data",
          "data": {
            "text/plain": [
              "<Figure size 432x288 with 1 Axes>"
            ],
            "image/png": "[encoded data removed]"
          },
          "metadata": {
            "needs_background": "light"
          }
        },
        {
          "output_type": "stream",
          "name": "stdout",
          "text": [
            "5\n"
          ]
        }
      ]
    },
    {
      "cell_type": "code",
      "source": [
        "X_train, X_test, y_train, y_test=X[:60000], X[60000:], y[:60000], y[60000:]"
      ],
      "metadata": {
        "id": "1AMYgwDZsoZZ"
      },
      "execution_count": null,
      "outputs": []
    },
    {
      "cell_type": "code",
      "source": [
        "# 이진 분류기(5는 True, 다른 숫자는 False 반환)\n",
        "# y_train_5의 자료형은 배열\n",
        "\n",
        "y_train_5=(y_train==5)\n",
        "y_test_5=(y_test==5)"
      ],
      "metadata": {
        "id": "vWAfSWbns24I"
      },
      "execution_count": null,
      "outputs": []
    },
    {
      "cell_type": "code",
      "source": [
        "# 확률적 경사 하강법 분류기 이용. \n",
        "# X_train이라는 훈련 데이터와 y_train_5라는 target값 지정\n",
        "# y_train_5는 훈련 데이터의 레이블이 5일 경우 1(True), 아니면 0(False)을 반환\n",
        "# 이진 분류기 사용을 위해 레이블을 0 또는 1로 변경\n",
        "\n",
        "from sklearn.linear_model import SGDClassifier\n",
        "sgd_clf=SGDClassifier(random_state=42)\n",
        "sgd_clf.fit(X_train,y_train_5)"
      ],
      "metadata": {
        "colab": {
          "base_uri": "https://localhost:8080/"
        },
        "id": "R-6mdJz7l40F",
        "outputId": "7e30e863-8e6c-4653-cfde-1d16994c0d85"
      },
      "execution_count": null,
      "outputs": [
        {
          "output_type": "execute_result",
          "data": {
            "text/plain": [
              "SGDClassifier(random_state=42)"
            ]
          },
          "metadata": {},
          "execution_count": 8
        }
      ]
    },
    {
      "cell_type": "code",
      "source": [
        "# 학습된 모델을 토대로 예측하기\n",
        "# True 값이 나오는 array 반환(타겟 값도 array 자료형이었으므로?)\n",
        "\n",
        "sgd_clf.predict([some_digit])\n"
      ],
      "metadata": {
        "colab": {
          "base_uri": "https://localhost:8080/"
        },
        "id": "ZYd_Gt2zsHRV",
        "outputId": "5bc45566-2caa-4bd1-efbe-ca3ca86da8e4"
      },
      "execution_count": null,
      "outputs": [
        {
          "output_type": "execute_result",
          "data": {
            "text/plain": [
              "array([ True])"
            ]
          },
          "metadata": {},
          "execution_count": 9
        }
      ]
    },
    {
      "cell_type": "code",
      "source": [
        "# 참고 : k-겹 교차 검증 수행 코드 구현해보기\n",
        "# 이는 cross_val_score() 함수와 거의 동일한 기능 수행(분류에서는)\n",
        "\n",
        "# skfolds는 StratifiedKFold 객체\n",
        "# skfolds.split은 이 객체를 훈련 데이터와 테스트 데이터로 나누는 메서드\n",
        "# KFold와는 달리 split 시 레이블도 매개변수로 받아야 함(필수)\n",
        "# why? 레이블 분포도에 따라 폴드를 나누는 방법이기 때문\n",
        "# 먼저 \n",
        "\n",
        "from sklearn.model_selection import StratifiedKFold\n",
        "from sklearn.base import clone\n",
        "\n",
        "# 질문: StratifiedKFold는 뷴류기이다. 왜 굳이 split 메소드를 쓰기 위해 이 객체를 지정해야 하는지?\n",
        "# 어차피 폴드 생성을 위한 것이라면, 그냥 StratifiedKFold라는 함수 내지 메소드를 만들었으면 좋았을텐데..\n",
        "# 왜 StratifiedKFold를 클래스로 만들었는지 궁금. 폴드 나누기 이외에도 이 객체가 자주 쓰이는가?\n",
        "\n",
        "skfolds=StratifiedKFold(n_splits=3, random_state=42, shuffle=True)\n",
        "\n",
        "# StratifiedKFold 객체에 내장된 메소드인 split을 이용해 훈련 세트/테스트 세트가 될 샘플들의 인덱스를 추출 \n",
        "# 깨알같은 folds와 fold의 차이(즉, 훈련 세트들이 될 폴드'들'과 테스트 세트가 되는 폴드의 차이) 유의\n",
        "for train_index, test_index in skfolds.split(X_train, y_train_5):\n",
        "  clone_clf=clone(sgd_clf)\n",
        "  X_train_folds=X_train[train_index]\n",
        "  y_train_folds=y_train_5[train_index]\n",
        "  X_test_fold=X_train[test_index]\n",
        "  y_test_fold=y_train_5[test_index]\n",
        "\n",
        "  # clone_clf는 앞서 사용한 SGD 분류기 모델의 복사본 \n",
        "  clone_clf.fit(X_train_folds, y_train_folds)\n",
        "  y_pred=clone_clf.predict(X_test_fold)\n",
        "  n_correct=sum(y_pred==y_test_fold)\n",
        "\n",
        "  # 정답 개수 / 총 예측값들 개수\n",
        "  print(n_correct / len(y_pred))"
      ],
      "metadata": {
        "colab": {
          "base_uri": "https://localhost:8080/"
        },
        "id": "16JIfuyql43c",
        "outputId": "ba067c5a-0a17-4878-e19d-0870791cb18e"
      },
      "execution_count": null,
      "outputs": [
        {
          "output_type": "stream",
          "name": "stdout",
          "text": [
            "0.9669\n",
            "0.91625\n",
            "0.96785\n"
          ]
        }
      ]
    },
    {
      "cell_type": "code",
      "source": [
        "# 정확도가 95% 이상\n",
        "\n",
        "from sklearn.model_selection import cross_val_score\n",
        "\n",
        "cross_val_score(sgd_clf, X_train, y_train_5, cv=3, scoring='accuracy')"
      ],
      "metadata": {
        "colab": {
          "base_uri": "https://localhost:8080/"
        },
        "id": "QKBQAsNml46A",
        "outputId": "54e5b0eb-86d9-4936-be30-8401a3488ebb"
      },
      "execution_count": null,
      "outputs": [
        {
          "output_type": "execute_result",
          "data": {
            "text/plain": [
              "array([0.95035, 0.96035, 0.9604 ])"
            ]
          },
          "metadata": {},
          "execution_count": 11
        }
      ]
    },
    {
      "cell_type": "code",
      "source": [
        "from sklearn.base import BaseEstimator\n",
        "\n",
        "# Never5Classifier라는 클래스 생성. 즉 5를 분류하는 분류기 생성\n",
        "# 앞서 배웠듯이, BaseEstimator 계승을 통해 get_params, set_params 함수 갖다쓰기\n",
        "\n",
        "class Never5Classifier(BaseEstimator):\n",
        "  def fit(self, X, y=None):\n",
        "    return self\n",
        "  def predict(self, X):\n",
        "    return np.zeros((len(X),1), dtype=bool)"
      ],
      "metadata": {
        "id": "YPfhSgVMl48R"
      },
      "execution_count": null,
      "outputs": []
    },
    {
      "cell_type": "code",
      "source": [
        "# 정확도가 90% 이상. 하지만 데이터의 10%만 숫자 5이기 때문에\n",
        "# 사실상 의미 없는 정확도. 이는 불균형한 데이터셋(특정 카테고리값이 다른 것보다 월등히 많은 경우) 흔히 발생하는 문제\n",
        "# 정확도를 분류기의 성능 측정 지표로 선호하지 않는 이유\n",
        "\n",
        "never_5_clf=Never5Classifier()\n",
        "\n",
        "cross_val_score(never_5_clf, X_train, y_train_5, cv=3, scoring='accuracy')"
      ],
      "metadata": {
        "colab": {
          "base_uri": "https://localhost:8080/"
        },
        "id": "UIJeFQoR9KuT",
        "outputId": "d22a3105-d0f5-4a9f-b583-7b3040e6a4ab"
      },
      "execution_count": null,
      "outputs": [
        {
          "output_type": "execute_result",
          "data": {
            "text/plain": [
              "array([0.91125, 0.90855, 0.90915])"
            ]
          },
          "metadata": {},
          "execution_count": 13
        }
      ]
    },
    {
      "cell_type": "code",
      "source": [
        "# 평가 점수가 아닌, 테스트 폴드에서 얻은 '예측' 반환\n",
        "# 훈련하는 동안 보지 못한 데이터에 대해 예측한 값 반환\n",
        "# y_train_pred에는 실제5-예측5, 실제5-예측5아님으로 분류된 예측값들 존재\n",
        "\n",
        "from sklearn.model_selection import cross_val_predict\n",
        "\n",
        "y_train_pred=cross_val_predict(sgd_clf, X_train, y_train_5, cv=3)"
      ],
      "metadata": {
        "id": "rg_6bFZgl5AV"
      },
      "execution_count": null,
      "outputs": []
    },
    {
      "cell_type": "code",
      "source": [
        "# 오차 행렬 생성(오진률 표와 비슷)\n",
        "# 첫 행은 음성 클래스(5가 아닌 샘플들), 두번째 행은 양성 클래스(5가 아닌 샘플들)\n",
        "# 첫 열은 음성 판정(5가 아니라고 예측한 예측값의 수), 두번째 열은 양성 판정(5라고 예측)\n",
        "# 완벽한 분류기는 오답의 가능성이 없으므로 대각행렬이 될 것\n",
        "\n",
        "from sklearn.metrics import confusion_matrix\n",
        "confusion_matrix(y_train_5, y_train_pred)"
      ],
      "metadata": {
        "colab": {
          "base_uri": "https://localhost:8080/"
        },
        "id": "xhGl8rA8-ZhP",
        "outputId": "100bba3b-8c67-4bf1-df10-e7a6e942edae"
      },
      "execution_count": null,
      "outputs": [
        {
          "output_type": "execute_result",
          "data": {
            "text/plain": [
              "array([[53892,   687],\n",
              "       [ 1891,  3530]])"
            ]
          },
          "metadata": {},
          "execution_count": 15
        }
      ]
    },
    {
      "cell_type": "code",
      "source": [
        "# 앞선 5분류기의 정밀도\n",
        "\n",
        "from sklearn.metrics import precision_score, recall_score\n",
        "precision_score(y_train_5, y_train_pred)\n"
      ],
      "metadata": {
        "colab": {
          "base_uri": "https://localhost:8080/"
        },
        "id": "_7_pTTVY_h5_",
        "outputId": "67e141d6-99da-4d1f-df76-2e4f727d7b0c"
      },
      "execution_count": null,
      "outputs": [
        {
          "output_type": "execute_result",
          "data": {
            "text/plain": [
              "0.8370879772350012"
            ]
          },
          "metadata": {},
          "execution_count": 16
        }
      ]
    },
    {
      "cell_type": "code",
      "source": [
        "recall_score(y_train_5, y_train_pred)"
      ],
      "metadata": {
        "colab": {
          "base_uri": "https://localhost:8080/"
        },
        "id": "FIcbGcZS_h8z",
        "outputId": "841dfca4-0d27-4836-cc09-b3f3723281cc"
      },
      "execution_count": null,
      "outputs": [
        {
          "output_type": "execute_result",
          "data": {
            "text/plain": [
              "0.6511713705958311"
            ]
          },
          "metadata": {},
          "execution_count": 17
        }
      ]
    },
    {
      "cell_type": "code",
      "source": [
        "from sklearn.metrics import f1_score\n",
        "f1_score(y_train_5, y_train_pred)"
      ],
      "metadata": {
        "colab": {
          "base_uri": "https://localhost:8080/"
        },
        "id": "spfIvqhr_h_I",
        "outputId": "427b0b8b-5d31-49cc-dceb-b3cdd07d8bbe"
      },
      "execution_count": null,
      "outputs": [
        {
          "output_type": "execute_result",
          "data": {
            "text/plain": [
              "0.7325171197343846"
            ]
          },
          "metadata": {},
          "execution_count": 18
        }
      ]
    },
    {
      "cell_type": "code",
      "source": [
        "y_scores=sgd_clf.decision_function([some_digit])\n",
        "y_scores"
      ],
      "metadata": {
        "colab": {
          "base_uri": "https://localhost:8080/"
        },
        "id": "NmQiJ3AZ_iBW",
        "outputId": "e4cdcd90-ec37-41db-8023-522489797f17"
      },
      "execution_count": null,
      "outputs": [
        {
          "output_type": "execute_result",
          "data": {
            "text/plain": [
              "array([2164.22030239])"
            ]
          },
          "metadata": {},
          "execution_count": 19
        }
      ]
    },
    {
      "cell_type": "code",
      "source": [
        "threshold=0\n",
        "y_some_digit_pred=(y_scores>threshold)\n",
        "y_some_digit_pred"
      ],
      "metadata": {
        "colab": {
          "base_uri": "https://localhost:8080/"
        },
        "id": "pnazqx32_iDh",
        "outputId": "b8f8fee1-9a0e-4e43-c135-2167cc01e64a"
      },
      "execution_count": null,
      "outputs": [
        {
          "output_type": "execute_result",
          "data": {
            "text/plain": [
              "array([ True])"
            ]
          },
          "metadata": {},
          "execution_count": 20
        }
      ]
    },
    {
      "cell_type": "code",
      "source": [
        "# cross_val_predict 함수에서 결정 점수를 반환받도록 method 지정\n",
        "\n",
        "\n",
        "y_scores=cross_val_predict(sgd_clf, X_train, y_train_5, cv=3, method='decision_function')\n",
        "\n",
        "# 가능한 모든 임계값에서의 정밀도와 재현률을 반환하는 precision_recall_curve 함수 이용\n",
        "\n",
        "from sklearn.metrics import precision_recall_curve\n",
        "\n",
        "precisions, recalls, thresholds=precision_recall_curve(y_train_5, y_scores)\n",
        "\n",
        "def plot_precision_recall_vs_threshold(precisions, recalls, threshold):\n",
        "  plt.plot(thresholds, precisions[:-1], 'b--', label='정밀도')\n",
        "  plt.plot(thresholds, recalls[:-1], 'g--', label='재현률')\n",
        "  plt.legend()\n",
        "  plt.xlabel('임곗값')"
      ],
      "metadata": {
        "id": "kDfXel5z_iFu"
      },
      "execution_count": null,
      "outputs": []
    },
    {
      "cell_type": "code",
      "source": [
        "plot_precision_recall_vs_threshold(precisions, recalls, thresholds)\n",
        "plt.show()"
      ],
      "metadata": {
        "colab": {
          "base_uri": "https://localhost:8080/",
          "height": 354
        },
        "id": "h9g-d1Li_iH3",
        "outputId": "224caccb-530a-435d-9e40-68b527596d95"
      },
      "execution_count": null,
      "outputs": [
        {
          "output_type": "stream",
          "name": "stderr",
          "text": [
            "/usr/local/lib/python3.8/dist-packages/matplotlib/backends/backend_agg.py:214: RuntimeWarning: Glyph 8722 missing from current font.\n",
            "  font.set_text(s, 0.0, flags=flags)\n",
            "/usr/local/lib/python3.8/dist-packages/matplotlib/backends/backend_agg.py:183: RuntimeWarning: Glyph 8722 missing from current font.\n",
            "  font.set_text(s, 0, flags=flags)\n"
          ]
        },
        {
          "output_type": "display_data",
          "data": {
            "text/plain": [
              "<Figure size 432x288 with 1 Axes>"
            ],
            "image/png": "[encoded data removed]"
          },
          "metadata": {
            "needs_background": "light"
          }
        }
      ]
    },
    {
      "cell_type": "code",
      "source": [
        "plt.plot(recalls, precisions)\n",
        "plt.xlabel('재현률')\n",
        "plt.ylabel('정밀도')\n",
        "plt.grid()\n",
        "plt.show()\n"
      ],
      "metadata": {
        "colab": {
          "base_uri": "https://localhost:8080/",
          "height": 279
        },
        "id": "ioD4bQriT65C",
        "outputId": "44ad8ab8-71d1-43ec-e23e-c4b00f2dd387"
      },
      "execution_count": null,
      "outputs": [
        {
          "output_type": "display_data",
          "data": {
            "text/plain": [
              "<Figure size 432x288 with 1 Axes>"
            ],
            "image/png": "[encoded data removed]"
          },
          "metadata": {
            "needs_background": "light"
          }
        }
      ]
    },
    {
      "cell_type": "code",
      "source": [
        "# 정밀도 90%가 되는 첫번째 True 값. 즉 조건이 True가 되는 첫번째 인덱스\n",
        "\n",
        "threshold_90_precision=thresholds[np.argmax(precisions>=0.90)]\n",
        "\n",
        "# 정밀도 90%가 되는 분류기\n",
        "# 내가 원하는 정밀도를 가지는 분류기를 만들 수 있다\n",
        "# 임계값보다 결정함수 값이 높은 경우만을 True로 반환하는 타겟 값 설정\n",
        "\n",
        "y_train_pred_90=(y_scores>=threshold_90_precision) \n",
        "print(precision_score(y_train_5, y_train_pred_90))\n",
        "print(recall_score(y_train_5, y_train_pred_90))"
      ],
      "metadata": {
        "colab": {
          "base_uri": "https://localhost:8080/"
        },
        "id": "YBwgRpp1_iKB",
        "outputId": "e4b74bdc-0b2e-43ff-fa93-756c56bf8d9f"
      },
      "execution_count": null,
      "outputs": [
        {
          "output_type": "stream",
          "name": "stdout",
          "text": [
            "0.9000345901072293\n",
            "0.4799852425751706\n"
          ]
        }
      ]
    },
    {
      "cell_type": "code",
      "source": [
        "from sklearn.metrics import roc_curve\n",
        "\n",
        "fpr, tpr, thresholds = roc_curve(y_train_5, y_scores)\n",
        "\n",
        "def plot_roc_curve(fpr, tpr, label=None):\n",
        "  plt.plot(fpr,tpr,linewidth=2, label=label)\n",
        "  plt.plot([0,1],[0,1],'k--')\n",
        "  plt.grid()\n",
        "  plt.xlabel('거짓 양성 비율')\n",
        "  plt.ylabel('진짜 양성 비율(재현율)')"
      ],
      "metadata": {
        "id": "Oa5KDZBaXe0a"
      },
      "execution_count": null,
      "outputs": []
    },
    {
      "cell_type": "code",
      "source": [
        "plot_roc_curve(fpr,tpr)\n",
        "plt.savefig('ROC 그래프.png')"
      ],
      "metadata": {
        "colab": {
          "base_uri": "https://localhost:8080/",
          "height": 279
        },
        "id": "lm8v9jlLZS1w",
        "outputId": "ba29525c-f2aa-46d3-a03e-0857d1c3dd50"
      },
      "execution_count": null,
      "outputs": [
        {
          "output_type": "display_data",
          "data": {
            "text/plain": [
              "<Figure size 432x288 with 1 Axes>"
            ],
            "image/png": "[encoded data removed]"
          },
          "metadata": {
            "needs_background": "light"
          }
        }
      ]
    },
    {
      "cell_type": "code",
      "source": [
        "from sklearn.metrics import roc_auc_score\n",
        "roc_auc_score(y_train_5, y_scores)"
      ],
      "metadata": {
        "colab": {
          "base_uri": "https://localhost:8080/"
        },
        "id": "AMT_Aofdb7Ci",
        "outputId": "402c1e68-6cc4-47b1-c142-64c5523892df"
      },
      "execution_count": null,
      "outputs": [
        {
          "output_type": "execute_result",
          "data": {
            "text/plain": [
              "0.9604938554008616"
            ]
          },
          "metadata": {},
          "execution_count": 27
        }
      ]
    },
    {
      "cell_type": "code",
      "source": [
        "# RandomForestClassifier 에는 decision_function() 메서드 대신\n",
        "# predict_proba() 메서드 존재. 각 클래스(열)에 속할 확률을 샘플(행)마다 보여주는 배열 반환 \n",
        "\n",
        "from sklearn.ensemble import RandomForestClassifier\n",
        "\n",
        "forest_clf=RandomForestClassifier(random_state=42)\n",
        "y_probas_forest=cross_val_predict(forest_clf, X_train, y_train_5, cv=3, method='predict_proba')"
      ],
      "metadata": {
        "id": "SlMZyD-Rb7E7"
      },
      "execution_count": null,
      "outputs": []
    },
    {
      "cell_type": "code",
      "source": [
        "# 양성 클래스 확률을 점수로 사용\n",
        "\n",
        "y_scores_forest=y_probas_forest[:,1]\n",
        "fpr_forest, tpr_forest, thresholds_forest=roc_curve(y_train_5, y_scores_forest)\n",
        "\n",
        "\n",
        "# 그래프를 보면 랜덤 포레스트 분류기가 SGD보다 훨씬 좋은(더 좌상단에 위치한) 것을 볼 수 있음\n",
        "# 이는 그래프 밑 면적(AUC)가 높다는 뜻\n",
        "plt.plot(fpr, tpr, \"b:\", label='SGD')\n",
        "plot_roc_curve(fpr_forest, tpr_forest, '랜덤 포레스트')\n",
        "plt.legend(loc='lower right')\n",
        "plt.show()"
      ],
      "metadata": {
        "colab": {
          "base_uri": "https://localhost:8080/",
          "height": 279
        },
        "id": "8oBEu4FfdEe1",
        "outputId": "8c2f0061-16a4-432c-ff53-296da463a6c5"
      },
      "execution_count": null,
      "outputs": [
        {
          "output_type": "display_data",
          "data": {
            "text/plain": [
              "<Figure size 432x288 with 1 Axes>"
            ],
            "image/png": "[encoded data removed]"
          },
          "metadata": {
            "needs_background": "light"
          }
        }
      ]
    },
    {
      "cell_type": "code",
      "source": [
        "roc_auc_score(y_train_5, y_scores_forest)"
      ],
      "metadata": {
        "colab": {
          "base_uri": "https://localhost:8080/"
        },
        "id": "ZEBLgIN5eQcO",
        "outputId": "e848ddcc-9182-493e-f9c8-fba42bc72449"
      },
      "execution_count": null,
      "outputs": [
        {
          "output_type": "execute_result",
          "data": {
            "text/plain": [
              "0.9983436731328145"
            ]
          },
          "metadata": {},
          "execution_count": 30
        }
      ]
    },
    {
      "cell_type": "code",
      "source": [
        "print(y_probas_forest)"
      ],
      "metadata": {
        "colab": {
          "base_uri": "https://localhost:8080/"
        },
        "id": "07kUdzNfSkyv",
        "outputId": "0ed0669d-ec55-4be9-ee7e-806c071b7ef0"
      },
      "execution_count": null,
      "outputs": [
        {
          "output_type": "stream",
          "name": "stdout",
          "text": [
            "[[0.11 0.89]\n",
            " [0.99 0.01]\n",
            " [0.96 0.04]\n",
            " ...\n",
            " [0.02 0.98]\n",
            " [0.92 0.08]\n",
            " [0.94 0.06]]\n"
          ]
        }
      ]
    },
    {
      "cell_type": "code",
      "source": [
        "# 이진 분류기의 타겟 클래스에 이진 클래스 대신 다중 클래스를 넣으면\n",
        "# 사이킷런의 알고리즘이 자동으로 OvR 실행 (즉, n*(n-1)/2개의 분류기 생성, 훈련)\n",
        "# 주의: 60,000개의 훈련 세트에 대해서 실행하면 시간 오래 걸림. 3분 이상\n",
        "\n",
        "from sklearn.svm import SVC\n",
        "\n",
        "svm_clf=SVC()\n",
        "svm_clf.fit(X_train, y_train)\n",
        "svm_clf.predict([some_digit])\n"
      ],
      "metadata": {
        "colab": {
          "base_uri": "https://localhost:8080/"
        },
        "id": "wIbvh_MeYJRf",
        "outputId": "f6ff1247-e032-4777-ee27-9ca4443b46cb"
      },
      "execution_count": null,
      "outputs": [
        {
          "output_type": "execute_result",
          "data": {
            "text/plain": [
              "array([5], dtype=uint8)"
            ]
          },
          "metadata": {},
          "execution_count": 32
        }
      ]
    },
    {
      "cell_type": "code",
      "source": [
        "# 배열에서 6번째 결정함수 값이 가장 큼(즉, 5로 분류한 분류기의 예측 점수가 가장 좋다는 뜻)\n",
        "\n",
        "\n",
        "some_digit_scores=svm_clf.decision_function([some_digit])\n",
        "some_digit_scores"
      ],
      "metadata": {
        "colab": {
          "base_uri": "https://localhost:8080/"
        },
        "id": "EzA7SeM0chU1",
        "outputId": "e9a465ff-8aca-46b5-fde6-f2f861a2e0e3"
      },
      "execution_count": null,
      "outputs": [
        {
          "output_type": "execute_result",
          "data": {
            "text/plain": [
              "array([[ 1.72501977,  2.72809088,  7.2510018 ,  8.3076379 , -0.31087254,\n",
              "         9.3132482 ,  1.70975103,  2.76765202,  6.23049537,  4.84771048]])"
            ]
          },
          "metadata": {},
          "execution_count": 33
        }
      ]
    },
    {
      "cell_type": "code",
      "source": [
        "# 5의 가능성이 가장 높다. 가장 높은 클래스를 답으로 선택\n",
        "# 분류기 svm_clf 객체에 타겟 클래스의 리스트가 저장되어있는 속성 .classes_\n",
        "\n",
        "print(np.argmax(some_digit_scores))\n",
        "print(svm_clf.classes_[5])\n",
        "svm_clf.classes_"
      ],
      "metadata": {
        "colab": {
          "base_uri": "https://localhost:8080/"
        },
        "id": "Cqun8pSHchcI",
        "outputId": "28a8f9f2-7ca7-44ed-9b75-e06bf7597b98"
      },
      "execution_count": null,
      "outputs": [
        {
          "output_type": "stream",
          "name": "stdout",
          "text": [
            "5\n",
            "5\n"
          ]
        },
        {
          "output_type": "execute_result",
          "data": {
            "text/plain": [
              "array([0, 1, 2, 3, 4, 5, 6, 7, 8, 9], dtype=uint8)"
            ]
          },
          "metadata": {},
          "execution_count": 34
        }
      ]
    },
    {
      "cell_type": "code",
      "source": [
        "from sklearn import svm\n",
        "from sklearn.multiclass import OneVsRestClassifier\n",
        "\n",
        "X_train_s=X_train[:1000]\n",
        "y_train_s=y_train[:1000]\n",
        "ovr_clf=OneVsRestClassifier(SVC())\n",
        "ovr_clf.fit(X_train_s, y_train_s)\n",
        "ovr_clf.predict([some_digit])\n",
        "print(len(ovr_clf.estimators_))"
      ],
      "metadata": {
        "colab": {
          "base_uri": "https://localhost:8080/"
        },
        "id": "Mw6DM0VGgVlC",
        "outputId": "aebd7d35-1b67-4689-8e49-fc73e15cb90f"
      },
      "execution_count": null,
      "outputs": [
        {
          "output_type": "stream",
          "name": "stdout",
          "text": [
            "10\n"
          ]
        }
      ]
    },
    {
      "cell_type": "code",
      "source": [
        "#SGD분류기 이용한 학습 - 분류기에서 다중 클래스 지원하므로 따로 OvR 적용 필요 X\n",
        "\n",
        "sgd_clf.fit(X_train_s, y_train_s)\n",
        "print(sgd_clf.decision_function([some_digit]))\n",
        "\n",
        "cross_val_score(sgd_clf, X_train_s, y_train_s, cv=3, scoring='accuracy')"
      ],
      "metadata": {
        "colab": {
          "base_uri": "https://localhost:8080/"
        },
        "id": "1JW6TZnMRUgG",
        "outputId": "9f24ee39-b5e6-42e1-9177-e12df16b5b31"
      },
      "execution_count": null,
      "outputs": [
        {
          "output_type": "stream",
          "name": "stdout",
          "text": [
            "[[-6049581.97985829 -6138036.45541781 -3886281.38604606  -604692.42366776\n",
            "  -6948311.32017537   914498.2913215  -6855666.78647961 -3866146.33271573\n",
            "  -4016434.08430155 -3209136.89074954]]\n"
          ]
        },
        {
          "output_type": "execute_result",
          "data": {
            "text/plain": [
              "array([0.83233533, 0.82882883, 0.79279279])"
            ]
          },
          "metadata": {},
          "execution_count": 36
        }
      ]
    },
    {
      "cell_type": "code",
      "source": [
        "# 데이터 표준화 전처리 후 모델을 돌리면 결과가 더 좋다 (왜?)\n",
        "# 이 코드는 코드 실행 시간이 너무 길어 훈련 세트를 1000개로 줄였으므로 정확도가 훨씬 낮음\n",
        "\n",
        "from sklearn.preprocessing import StandardScaler\n",
        "scaler=StandardScaler()\n",
        "X_train_scaled=scaler.fit_transform(X_train_s.astype(np.float64))\n",
        "\n",
        "cross_val_score(sgd_clf, X_train_scaled, y_train_s, cv=3, scoring='accuracy')"
      ],
      "metadata": {
        "colab": {
          "base_uri": "https://localhost:8080/"
        },
        "id": "1va7OZgsSdSL",
        "outputId": "66c5ded7-5cd7-49d1-8cf2-15b71cbb33ce"
      },
      "execution_count": null,
      "outputs": [
        {
          "output_type": "execute_result",
          "data": {
            "text/plain": [
              "array([0.83532934, 0.81681682, 0.82882883])"
            ]
          },
          "metadata": {},
          "execution_count": 37
        }
      ]
    },
    {
      "cell_type": "code",
      "source": [
        "# 예측한 값에 대한 오차 행렬\n",
        "\n",
        "\n",
        "y_train_pred=cross_val_predict(sgd_clf, X_train_scaled, y_train_s, cv=3)\n",
        "conf_mx=confusion_matrix(y_train_s, y_train_pred)\n",
        "conf_mx"
      ],
      "metadata": {
        "colab": {
          "base_uri": "https://localhost:8080/"
        },
        "id": "jzLwO645Tw_2",
        "outputId": "c3fd2e58-5fb1-43d5-b472-0eda74894009"
      },
      "execution_count": null,
      "outputs": [
        {
          "output_type": "execute_result",
          "data": {
            "text/plain": [
              "array([[ 95,   0,   1,   0,   0,   1,   0,   0,   0,   0],\n",
              "       [  0, 106,   2,   0,   0,   5,   1,   0,   1,   1],\n",
              "       [  1,   3,  76,   2,   3,   1,   4,   3,   5,   1],\n",
              "       [  1,   2,   5,  75,   0,   4,   0,   3,   0,   3],\n",
              "       [  0,   0,   0,   3,  90,   3,   1,   1,   2,   5],\n",
              "       [  1,   0,   2,   9,   2,  65,   2,   1,   8,   2],\n",
              "       [  2,   1,   3,   0,   2,   4,  82,   0,   0,   0],\n",
              "       [  0,   2,   3,   0,   3,   0,   0, 106,   0,   3],\n",
              "       [  2,   6,   2,   1,   0,   6,   2,   2,  64,   2],\n",
              "       [  3,   0,   2,   1,   7,   1,   0,  17,   1,  68]])"
            ]
          },
          "metadata": {},
          "execution_count": 38
        }
      ]
    },
    {
      "cell_type": "code",
      "source": [
        "plt.matshow(conf_mx, cmap=plt.cm.gray)\n",
        "plt.show()\n",
        "\n",
        "# 색깔이 어둡다 :1) 그 클래스에 해당하는 데이터가 부족하다 \n",
        "# 2) 그 클래스를 다른 클래스만큼 잘 분류하지 못한다 "
      ],
      "metadata": {
        "colab": {
          "base_uri": "https://localhost:8080/",
          "height": 275
        },
        "id": "L_y26GaaVcV-",
        "outputId": "b4d7d2a7-6279-49b2-aece-a6faf7c91920"
      },
      "execution_count": null,
      "outputs": [
        {
          "output_type": "display_data",
          "data": {
            "text/plain": [
              "<Figure size 288x288 with 1 Axes>"
            ],
            "image/png": "[encoded data removed]"
          },
          "metadata": {
            "needs_background": "light"
          }
        }
      ]
    },
    {
      "cell_type": "code",
      "source": [
        "# 오차 비율을 보아야 하므로\n",
        "# 오차 행렬의 각 값을 대응되는 클래스의 이미지 개수로 나누어 표시\n",
        "# 이 결과에선, 실제 9(행)가 7(열)로 잘못 분류된 경우가 많다(밝은 색)는 것이 보임 \n",
        "\n",
        "row_sums=conf_mx.sum(axis=1, keepdims=True)\n",
        "norm_conf_mx=conf_mx/row_sums\n",
        "\n",
        "np.fill_diagonal(norm_conf_mx,0)\n",
        "plt.matshow(norm_conf_mx, cmap=plt.cm.gray)\n",
        "plt.show()"
      ],
      "metadata": {
        "colab": {
          "base_uri": "https://localhost:8080/",
          "height": 275
        },
        "id": "H3MlCRNfW5pw",
        "outputId": "43e591a8-b547-4846-d243-3e746842609c"
      },
      "execution_count": null,
      "outputs": [
        {
          "output_type": "display_data",
          "data": {
            "text/plain": [
              "<Figure size 288x288 with 1 Axes>"
            ],
            "image/png": "[encoded data removed]"
          },
          "metadata": {
            "needs_background": "light"
          }
        }
      ]
    },
    {
      "cell_type": "code",
      "source": [
        "# 오차행렬의 샘플들 실제 보기\n",
        "# 시계방향으로 실제3-예측3, 실제3-예측5, 실제5-예측5, 실제5-예측3 이다.\n",
        "# 이러한 오류가 나타나는 이유: 선형 분류기는 클래스마다 특정 픽셀에 가중치 설정\n",
        "# 3과 5의 차이는 위쪽 선과 아래쪽 호를 이어주는 작은 직선의 위치\n",
        "# 즉, 이미지의 위치나 회전 방향이 중요하므로 '정규화'하듯 이미지를 중앙에 위치 시켜주어야 함\n",
        "\n",
        "cl_a,cl_b=3,5\n",
        "\n",
        "X_aa=X_train_s[(y_train_s==cl_a)&(y_train_pred==cl_a)]\n",
        "X_ab=X_train_s[(y_train_s==cl_a)&(y_train_pred==cl_b)]\n",
        "X_ba=X_train_s[(y_train_s==cl_b)&(y_train_pred==cl_a)]\n",
        "X_bb=X_train_s[(y_train_s==cl_b)&(y_train_pred==cl_b)]\n",
        "\n",
        "def plot_digits(instances, images_per_row=10, **options):\n",
        "    size = 28\n",
        "    images_per_row = min(len(instances), images_per_row)\n",
        "    images = [instance.reshape(size,size) for instance in instances]\n",
        "    n_rows = (len(instances) - 1) // images_per_row + 1\n",
        "    row_images = []\n",
        "    n_empty = n_rows * images_per_row - len(instances)\n",
        "    images.append(np.zeros((size, size * n_empty)))\n",
        "    for row in range(n_rows):\n",
        "        rimages = images[row * images_per_row : (row + 1) * images_per_row]\n",
        "        row_images.append(np.concatenate(rimages, axis=1))\n",
        "    image = np.concatenate(row_images, axis=0)\n",
        "    plt.imshow(image, cmap = plt.cm.binary, **options)\n",
        "    plt.axis(\"off\")\n",
        "\n",
        "\n",
        "plt.figure(figsize=(8,8))\n",
        "plt.subplot(221); plot_digits(X_aa[:25], images_per_row=5)  # 이미지 상단 왼편\n",
        "plt.subplot(222); plot_digits(X_ab[:25], images_per_row=5)  # 이미지 상단 오른편\n",
        "plt.subplot(223); plot_digits(X_ba[:25], images_per_row=5)  # 이미지 하단 왼편\n",
        "plt.subplot(224); plot_digits(X_bb[:25], images_per_row=5)  # 이미지 하단 오른편\n",
        "plt.show()"
      ],
      "metadata": {
        "colab": {
          "base_uri": "https://localhost:8080/",
          "height": 466
        },
        "id": "clX-mk-bY32z",
        "outputId": "876a81cd-74e7-4219-b65e-959f1c47a54d"
      },
      "execution_count": null,
      "outputs": [
        {
          "output_type": "display_data",
          "data": {
            "text/plain": [
              "<Figure size 576x576 with 4 Axes>"
            ],
            "image/png": "[encoded data removed]"
          },
          "metadata": {
            "needs_background": "light"
          }
        }
      ]
    },
    {
      "cell_type": "code",
      "source": [
        "from sklearn.neighbors import KNeighborsClassifier\n",
        "\n",
        "y_train_large"
      ],
      "metadata": {
        "id": "B8ru-yU-bme2"
      },
      "execution_count": null,
      "outputs": []
    }
  ]
}