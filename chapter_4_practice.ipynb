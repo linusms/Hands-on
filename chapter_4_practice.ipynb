{
  "nbformat": 4,
  "nbformat_minor": 0,
  "metadata": {
    "colab": {
      "provenance": [],
      "authorship_tag": "ABX9TyNP3Dg3veKAiBGjVTdLQJRX",
      "include_colab_link": true
    },
    "kernelspec": {
      "name": "python3",
      "display_name": "Python 3"
    },
    "language_info": {
      "name": "python"
    }
  },
  "cells": [
    {
      "cell_type": "markdown",
      "metadata": {
        "id": "view-in-github",
        "colab_type": "text"
      },
      "source": [
        "<a href=\"https://colab.research.google.com/github/linusms/Hands-on/blob/main/chapter_4_practice.ipynb\" target=\"_parent\"><img src=\"https://colab.research.google.com/assets/colab-badge.svg\" alt=\"Open In Colab\"/></a>"
      ]
    },
    {
      "cell_type": "code",
      "execution_count": 9,
      "metadata": {
        "id": "AOHSupX9H40u"
      },
      "outputs": [],
      "source": [
        "# 조기종료를 사용한 배치 경사 하강법으로 소프트맥스 회귀 구현(사이킷런 사용하지 말고!)\n",
        "\n",
        "from sklearn import datasets\n",
        "iris = datasets.load_iris()\n",
        "\n",
        "# 데이터 읽기\n",
        "X = iris[\"data\"][:, (2, 3)]  # 꽃잎 길이, 꽃잎 넓이\n",
        "y = iris[\"target\"]"
      ]
    },
    {
      "cell_type": "code",
      "source": [
        "# 선형회귀모형을 위한 샘플에 편향 추가 과정\n",
        "\n",
        "import numpy as np\n",
        "\n",
        "X_with_bias = np.c_[np.ones([len(X), 1]), X]"
      ],
      "metadata": {
        "id": "aQGChgMLLjI2"
      },
      "execution_count": 15,
      "outputs": []
    },
    {
      "cell_type": "code",
      "source": [
        "# 훈련 / 테스트 / 검증 세트 만들기(수동)\n",
        "\n",
        "test_ratio = 0.2                                         # 테스트 세트 비율 = 20%\n",
        "validation_ratio = 0.2                                   # 검증 세트 비율 = 20%\n",
        "total_size = len(X_with_bias)                            # 전체 데이터셋 크기\n",
        "\n",
        "test_size = int(total_size * test_ratio)                 \n",
        "validation_size = int(total_size * validation_ratio)     \n",
        "train_size = total_size - test_size - validation_size "
      ],
      "metadata": {
        "id": "9-0SPNuSRZT_"
      },
      "execution_count": 16,
      "outputs": []
    },
    {
      "cell_type": "code",
      "source": [
        "# 인덱스를 섞어서 무작위 섞기 효과 만들기\n",
        "\n",
        "rnd_indices = np.random.permutation(total_size)\n",
        "\n",
        "X_train = X_with_bias[rnd_indices[:train_size]]\n",
        "y_train = y[rnd_indices[:train_size]]\n",
        "\n",
        "X_valid = X_with_bias[rnd_indices[train_size:-test_size]]\n",
        "y_valid = y[rnd_indices[train_size:-test_size]]\n",
        "\n",
        "X_test = X_with_bias[rnd_indices[-test_size:]]\n",
        "y_test = y[rnd_indices[-test_size:]]"
      ],
      "metadata": {
        "id": "5SQUnqB0RiP-"
      },
      "execution_count": 17,
      "outputs": []
    },
    {
      "cell_type": "code",
      "source": [
        "# 원-핫 인코딩 함수\n",
        "\n",
        "def to_one_hot(y):\n",
        "    n_classes = y.max() + 1                 # 클래스 수\n",
        "    m = len(y)                              # 샘플 수\n",
        "    Y_one_hot = np.zeros((m, n_classes))    # (샘플 수, 클래스 수) 0-벡터 생성\n",
        "    Y_one_hot[np.arange(m), y] = 1          # 샘플 별로 해당 클래스의 값만 1로 변경. (넘파이 인덱싱 활용)\n",
        "    return Y_one_hot"
      ],
      "metadata": {
        "id": "z-kTgwf1Rll5"
      },
      "execution_count": 18,
      "outputs": []
    },
    {
      "cell_type": "code",
      "source": [
        "y_train[:5]\n"
      ],
      "metadata": {
        "id": "M-cZlcEqRlu3",
        "colab": {
          "base_uri": "https://localhost:8080/"
        },
        "outputId": "fbac7987-5794-4701-a8bf-0c14cbf7360f"
      },
      "execution_count": 19,
      "outputs": [
        {
          "output_type": "execute_result",
          "data": {
            "text/plain": [
              "array([1, 1, 2, 0, 0])"
            ]
          },
          "metadata": {},
          "execution_count": 19
        }
      ]
    },
    {
      "cell_type": "code",
      "source": [
        "to_one_hot(y_train[:5])"
      ],
      "metadata": {
        "id": "X1oqrz4wRqeV",
        "colab": {
          "base_uri": "https://localhost:8080/"
        },
        "outputId": "f7688803-83b2-410c-a7e4-beef8493618c"
      },
      "execution_count": 20,
      "outputs": [
        {
          "output_type": "execute_result",
          "data": {
            "text/plain": [
              "array([[0., 1., 0.],\n",
              "       [0., 1., 0.],\n",
              "       [0., 0., 1.],\n",
              "       [1., 0., 0.],\n",
              "       [1., 0., 0.]])"
            ]
          },
          "metadata": {},
          "execution_count": 20
        }
      ]
    },
    {
      "cell_type": "code",
      "source": [
        "# 데이터들 원 핫 인코딩으로 변환 - 실제로는 ColumnTransformer와 OneHotEncoder로 변환\n",
        "\n",
        "Y_train_one_hot = to_one_hot(y_train)\n",
        "Y_valid_one_hot = to_one_hot(y_valid)\n",
        "Y_test_one_hot = to_one_hot(y_test)"
      ],
      "metadata": {
        "id": "du-CxashRsFx"
      },
      "execution_count": 21,
      "outputs": []
    },
    {
      "cell_type": "code",
      "source": [
        "# 소프트맥스 함수 구현\n",
        "\n",
        "\n",
        "def softmax(logits):\n",
        "    exps = np.exp(logits)                            # 항목별 지수함수 적용\n",
        "    exp_sums = np.sum(exps, axis=1, keepdims=True)   # 샘플별 클래스 점수 합산\n",
        "    return exps / exp_sums                           # 샘플별 소프트맥스 점"
      ],
      "metadata": {
        "id": "eAZKC-NzR0VA"
      },
      "execution_count": 22,
      "outputs": []
    },
    {
      "cell_type": "code",
      "source": [
        "# 경사하강법을 위한 초기 파라미터 출발점 설정 \n",
        "\n",
        "n_inputs = X_train.shape[1] # 샘플의 특성 개수           \n",
        "n_outputs = len(np.unique(y_train)) # 레이블(답)의 종류, 즉 클래스\n",
        "\n",
        "Theta = np.random.randn(n_inputs, n_outputs) # 특성*클래스의 차원을 가지는 임의의 수 행렬 - 임의의 초기 파라미터"
      ],
      "metadata": {
        "id": "4F_EWLEYnNt_"
      },
      "execution_count": 23,
      "outputs": []
    },
    {
      "cell_type": "code",
      "source": [
        "#  배치 경사하강법 구현\n",
        "\n",
        "eta = 0.01\n",
        "n_iterations = 5001\n",
        "m = len(X_train)\n",
        "epsilon = 1e-7\n",
        "\n",
        "for iteration in range(n_iterations):     # 5001번 반복 훈련\n",
        "    logits = X_train.dot(Theta)\n",
        "    Y_proba = softmax(logits)\n",
        "    \n",
        "    if iteration % 500 == 0:              # 500 에포크마다 손실(비용) 계산해서 출력\n",
        "        loss = -np.mean(np.sum(Y_train_one_hot * np.log(Y_proba + epsilon), axis=1))\n",
        "        print(iteration, loss)\n",
        "    \n",
        "    error = Y_proba - Y_train_one_hot     # 그레이디언트 계산.\n",
        "    gradients = 1/m * X_train.T.dot(error)\n",
        "    \n",
        "    Theta = Theta - eta * gradients       # 파라미터 업데이트"
      ],
      "metadata": {
        "colab": {
          "base_uri": "https://localhost:8080/"
        },
        "id": "wuz-enlCnpI5",
        "outputId": "2ea5418b-1032-4330-cf3d-a5c4af29ffa1"
      },
      "execution_count": 24,
      "outputs": [
        {
          "output_type": "stream",
          "name": "stdout",
          "text": [
            "0 7.449144803178437\n",
            "500 0.8863971352777716\n",
            "1000 0.7192393552958617\n",
            "1500 0.6196005409425926\n",
            "2000 0.5558037827803247\n",
            "2500 0.5113947078866622\n",
            "3000 0.4782778049546998\n",
            "3500 0.45226696752217677\n",
            "4000 0.43103512977043257\n",
            "4500 0.41319545562765264\n",
            "5000 0.3978699420675774\n"
          ]
        }
      ]
    },
    {
      "cell_type": "code",
      "source": [
        "# 배치 경사하강법으로 구한 로짓으로 예측한 클래스 정확도 확인\n",
        "\n",
        "logits = X_valid.dot(Theta)              \n",
        "Y_proba = softmax(logits)\n",
        "y_predict = np.argmax(Y_proba, axis=1)          # 가장 높은 확률을 갖는 클래스 선택\n",
        "\n",
        "accuracy_score = np.mean(y_predict == y_valid)  # 정확도 계산\n",
        "accuracy_score"
      ],
      "metadata": {
        "colab": {
          "base_uri": "https://localhost:8080/"
        },
        "id": "U1b89MMuoKyX",
        "outputId": "1568e0f7-027e-4cdd-a213-428804692552"
      },
      "execution_count": 25,
      "outputs": [
        {
          "output_type": "execute_result",
          "data": {
            "text/plain": [
              "0.8666666666666667"
            ]
          },
          "metadata": {},
          "execution_count": 25
        }
      ]
    },
    {
      "cell_type": "code",
      "source": [
        "# 규제 추가한 경사하강법\n",
        "\n",
        "eta = 0.1\n",
        "n_iterations = 5001\n",
        "m = len(X_train)\n",
        "epsilon = 1e-7\n",
        "alpha = 0.1        # 규제 하이퍼파라미터\n",
        "\n",
        "Theta = np.random.randn(n_inputs, n_outputs)  # 파라미터 새로 초기화\n",
        "\n",
        "for iteration in range(n_iterations):\n",
        "    logits = X_train.dot(Theta)\n",
        "    Y_proba = softmax(logits)\n",
        "    \n",
        "    # 반복이 500의 배수일 때마다(적당히) 소프트맥스의 비용함수 값 출력해 정확도 비교\n",
        "    if iteration % 500 == 0:\n",
        "        xentropy_loss = -np.mean(np.sum(Y_train_one_hot * np.log(Y_proba + epsilon), axis=1))\n",
        "        l2_loss = 1/2 * np.sum(np.square(Theta[1:]))  # 편향은 규제에서 제외\n",
        "        loss = xentropy_loss + alpha * l2_loss        # l2 규제가 추가된 손실\n",
        "        print(iteration, loss)\n",
        "    \n",
        "    # 경사하강도 그래디언트 계산\n",
        "    error = Y_proba - Y_train_one_hot\n",
        "\n",
        "    # l2 규제의 그레이디언트(l2 규제항을 theta에 대해 미분한 값).\n",
        "    l2_loss_gradients = np.r_[np.zeros([1, n_outputs]), alpha * Theta[1:]]   \n",
        "    \n",
        "    # error는 예측값-실제값, 즉 (X*(theta)-y)와 같음, 앞의 1/m은 원래 2/m인데 학습률(eta)에 포함시킨듯\n",
        "    gradients = 1/m * X_train.T.dot(error) + l2_loss_gradients\n",
        "    \n",
        "    Theta = Theta - eta * gradients"
      ],
      "metadata": {
        "colab": {
          "base_uri": "https://localhost:8080/"
        },
        "id": "WoJ17RMTovQg",
        "outputId": "06f544d2-4d14-4444-e15d-453d3c4d7da8"
      },
      "execution_count": 30,
      "outputs": [
        {
          "output_type": "stream",
          "name": "stdout",
          "text": [
            "0 3.3737297212510353\n",
            "500 0.5429358459232815\n",
            "1000 0.5161239488722624\n",
            "1500 0.5080465739661083\n",
            "2000 0.5050825279410205\n",
            "2500 0.5039041571310088\n",
            "3000 0.5034159640174234\n",
            "3500 0.5032088705596761\n",
            "4000 0.5031197515914756\n",
            "4500 0.5030810541508832\n",
            "5000 0.5030641537450202\n"
          ]
        }
      ]
    },
    {
      "cell_type": "code",
      "source": [
        "logits = X_valid.dot(Theta)\n",
        "Y_proba = softmax(logits)\n",
        "y_predict = np.argmax(Y_proba, axis=1)\n",
        "\n",
        "accuracy_score = np.mean(y_predict == y_valid)\n",
        "accuracy_score"
      ],
      "metadata": {
        "colab": {
          "base_uri": "https://localhost:8080/"
        },
        "id": "eKjs4OHWoxIX",
        "outputId": "07124930-0afe-4008-e1c6-99dcafa88761"
      },
      "execution_count": 27,
      "outputs": [
        {
          "output_type": "execute_result",
          "data": {
            "text/plain": [
              "0.9333333333333333"
            ]
          },
          "metadata": {},
          "execution_count": 27
        }
      ]
    },
    {
      "cell_type": "code",
      "source": [
        "# 조기종료 추가한 경사하강법\n",
        "\n",
        "eta = 0.1 \n",
        "n_iterations = 5001\n",
        "m = len(X_train)\n",
        "epsilon = 1e-7\n",
        "alpha = 0.1            # 규제 하이퍼파라미터\n",
        "best_loss = np.infty   # 최소 손실값 기억 변수\n",
        "\n",
        "Theta = np.random.randn(n_inputs, n_outputs)  # 파라미터 새로 초기화\n",
        "\n",
        "for iteration in range(n_iterations):\n",
        "    # 훈련 및 손실 계산\n",
        "    logits = X_train.dot(Theta)\n",
        "    Y_proba = softmax(logits)\n",
        "    error = Y_proba - Y_train_one_hot\n",
        "    gradients = 1/m * X_train.T.dot(error) + np.r_[np.zeros([1, n_outputs]), alpha * Theta[1:]]\n",
        "    Theta = Theta - eta * gradients\n",
        "\n",
        "    # 검증 세트에 대한 손실 계산\n",
        "    logits = X_valid.dot(Theta)\n",
        "    Y_proba = softmax(logits)\n",
        "    xentropy_loss = -np.mean(np.sum(Y_valid_one_hot * np.log(Y_proba + epsilon), axis=1))\n",
        "    l2_loss = 1/2 * np.sum(np.square(Theta[1:]))\n",
        "    loss = xentropy_loss + alpha * l2_loss\n",
        "    \n",
        "    # 500 에포크마다 검증 세트에 대한 손실 출력\n",
        "    if iteration % 500 == 0:\n",
        "        print(iteration, loss)\n",
        "        \n",
        "    # 에포크마다 최소 손실값 업데이트\n",
        "    if loss < best_loss:\n",
        "        best_loss = loss\n",
        "    else:                                      # 에포크가 줄어들지 않으면 바로(배치 경사 하강법이므로) 훈련 종료\n",
        "        print(iteration - 1, best_loss)        # 종료되지 이전 에포크의 손실값 출력\n",
        "        print(iteration, loss, \"조기 종료!\")\n",
        "        break"
      ],
      "metadata": {
        "colab": {
          "base_uri": "https://localhost:8080/"
        },
        "id": "BVWPakMho32h",
        "outputId": "c69a1d0e-213c-4ecf-c7f6-b6c3675a9b5c"
      },
      "execution_count": 28,
      "outputs": [
        {
          "output_type": "stream",
          "name": "stdout",
          "text": [
            "0 3.800479667911591\n",
            "500 0.5586397578807875\n",
            "1000 0.5238444116479837\n",
            "1500 0.5155739029142887\n",
            "2000 0.5126561556851561\n",
            "2500 0.5114654681115299\n",
            "3000 0.5109381922868053\n",
            "3500 0.5106905627709066\n",
            "4000 0.5105681713225404\n",
            "4500 0.5105046505950571\n",
            "5000 0.5104700903933048\n"
          ]
        }
      ]
    },
    {
      "cell_type": "code",
      "source": [
        "logits = X_valid.dot(Theta)\n",
        "Y_proba = softmax(logits)\n",
        "y_predict = np.argmax(Y_proba, axis=1)\n",
        "\n",
        "accuracy_score = np.mean(y_predict == y_valid)\n",
        "accuracy_score"
      ],
      "metadata": {
        "colab": {
          "base_uri": "https://localhost:8080/"
        },
        "id": "Z5BXeRGvo8Wp",
        "outputId": "865476da-9972-4f45-b877-b61475fbb771"
      },
      "execution_count": 29,
      "outputs": [
        {
          "output_type": "execute_result",
          "data": {
            "text/plain": [
              "0.9333333333333333"
            ]
          },
          "metadata": {},
          "execution_count": 29
        }
      ]
    }
  ]
}