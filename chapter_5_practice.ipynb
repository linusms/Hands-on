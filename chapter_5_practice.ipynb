{
  "nbformat": 4,
  "nbformat_minor": 0,
  "metadata": {
    "colab": {
      "provenance": [],
      "authorship_tag": "ABX9TyPA+7QpLi6gn/5eftxlu39v",
      "include_colab_link": true
    },
    "kernelspec": {
      "name": "python3",
      "display_name": "Python 3"
    },
    "language_info": {
      "name": "python"
    }
  },
  "cells": [
    {
      "cell_type": "markdown",
      "metadata": {
        "id": "view-in-github",
        "colab_type": "text"
      },
      "source": [
        "<a href=\"https://colab.research.google.com/github/linusms/Hands-on/blob/main/chapter_5_practice.ipynb\" target=\"_parent\"><img src=\"https://colab.research.google.com/assets/colab-badge.svg\" alt=\"Open In Colab\"/></a>"
      ]
    },
    {
      "cell_type": "code",
      "execution_count": null,
      "metadata": {
        "id": "YVm2iIe4Kjuz"
      },
      "outputs": [],
      "source": [
        "# 1 .선형적으로 분리되는 데이터셋(iris 데이터셋의 setosa와 versicolor)에\n",
        "# LinearSVC 훈련시켜보기\n",
        "\n",
        "from sklearn import datasets\n",
        "\n",
        "iris=datasets.load_iris()\n",
        "X=iris['data'][:,(2,3)]\n",
        "y=iris['target']\n",
        "\n",
        "setosa_or_versicolor=(y==0)|(y==1)\n",
        "X=X[setosa_or_versicolor]\n",
        "y=y[setosa_or_versicolor]\n"
      ]
    },
    {
      "cell_type": "code",
      "source": [
        "from sklearn.svm import SVC, LinearSVC\n",
        "from sklearn.linear_model import SGDClassifier\n",
        "from sklearn.preprocessing import StandardScaler\n",
        "\n",
        "C = 5\n",
        "alpha = 1 / (C * len(X))\n",
        "\n",
        "# 비용함수는 hinge 함수 사용(SVM에서 자주 쓰임)\n",
        "lin_clf = LinearSVC(loss=\"hinge\", C=C, random_state=42)\n",
        "svm_clf = SVC(kernel=\"linear\", C=C)\n",
        "sgd_clf = SGDClassifier(loss=\"hinge\", learning_rate=\"constant\", eta0=0.001, alpha=alpha,\n",
        "                        max_iter=1000, tol=1e-3, random_state=42)\n",
        "\n",
        "# SVM은 훈련 전 반드시 정규화\n",
        "scaler = StandardScaler()\n",
        "X_scaled = scaler.fit_transform(X)\n",
        "\n",
        "lin_clf.fit(X_scaled, y)\n",
        "svm_clf.fit(X_scaled, y)\n",
        "sgd_clf.fit(X_scaled, y)\n",
        "\n",
        "# 각 모델의 절편과 파라미터들 출력\n",
        "print(\"LinearSVC:                   \", lin_clf.intercept_, lin_clf.coef_)\n",
        "print(\"SVC:                         \", svm_clf.intercept_, svm_clf.coef_)\n",
        "print(\"SGDClassifier(alpha={:.5f}):\".format(sgd_clf.alpha), sgd_clf.intercept_, sgd_clf.coef_)"
      ],
      "metadata": {
        "colab": {
          "base_uri": "https://localhost:8080/"
        },
        "id": "14QQPMo1Uxy_",
        "outputId": "0e1480db-361a-4f79-b5e1-19cba015cf94"
      },
      "execution_count": null,
      "outputs": [
        {
          "output_type": "stream",
          "name": "stdout",
          "text": [
            "LinearSVC:                    [0.28475098] [[1.05364854 1.09903804]]\n",
            "SVC:                          [0.31896852] [[1.1203284  1.02625193]]\n",
            "SGDClassifier(alpha=0.00200): [0.117] [[0.77714169 0.72981762]]\n"
          ]
        }
      ]
    },
    {
      "cell_type": "code",
      "source": [
        "import matplotlib.pyplot as plt\n",
        "\n",
        "# 각 결정경계의 기울기와 편향을 계산합니다\n",
        "w1 = -lin_clf.coef_[0, 0]/lin_clf.coef_[0, 1]\n",
        "b1 = -lin_clf.intercept_[0]/lin_clf.coef_[0, 1]\n",
        "w2 = -svm_clf.coef_[0, 0]/svm_clf.coef_[0, 1]\n",
        "b2 = -svm_clf.intercept_[0]/svm_clf.coef_[0, 1]\n",
        "w3 = -sgd_clf.coef_[0, 0]/sgd_clf.coef_[0, 1]\n",
        "b3 = -sgd_clf.intercept_[0]/sgd_clf.coef_[0, 1]\n",
        "\n",
        "# 결정경계를 원본 축척으로 변환합니다\n",
        "# StandardScaler를 fit 할때 저장된 변환 계수들(평균, 분산 등)이 저장되어 있기 때문에 가능(?)\n",
        "line1 = scaler.inverse_transform([[-10, -10 * w1 + b1], [10, 10 * w1 + b1]])\n",
        "line2 = scaler.inverse_transform([[-10, -10 * w2 + b2], [10, 10 * w2 + b2]])\n",
        "line3 = scaler.inverse_transform([[-10, -10 * w3 + b3], [10, 10 * w3 + b3]])\n",
        "\n",
        "# 세 개의 결정경계를 모두 그립니다\n",
        "# 두 점의 x,y 좌표가 들어간 리스트만 넣어줘도 선이 그려짐\n",
        "plt.figure(figsize=(11, 4))\n",
        "plt.plot(line1[:, 0], line1[:, 1], \"k:\", label=\"LinearSVC\")\n",
        "plt.plot(line2[:, 0], line2[:, 1], \"b--\", linewidth=2, label=\"SVC\")\n",
        "plt.plot(line3[:, 0], line3[:, 1], \"r-\", label=\"SGDClassifier\")\n",
        "plt.plot(X[:, 0][y==1], X[:, 1][y==1], \"bs\") # label=\"Iris versicolor\"\n",
        "plt.plot(X[:, 0][y==0], X[:, 1][y==0], \"yo\") # label=\"Iris setosa\"\n",
        "plt.xlabel(\"Petal length\", fontsize=14)\n",
        "plt.ylabel(\"Petal width\", fontsize=14)\n",
        "plt.legend(loc=\"upper center\", fontsize=14)\n",
        "plt.axis([0, 5.5, 0, 2])\n",
        "\n",
        "plt.show()"
      ],
      "metadata": {
        "colab": {
          "base_uri": "https://localhost:8080/",
          "height": 324
        },
        "id": "cH8aMD8eXeyp",
        "outputId": "af4b4c4e-d6e9-49d4-d8fe-9367e40be225"
      },
      "execution_count": null,
      "outputs": [
        {
          "output_type": "stream",
          "name": "stdout",
          "text": [
            "-0.9587007015533304 -0.2590911023446184 -1.0916699535467225 -0.3108091759144387 -1.0648436867566318 -0.16031402414292598\n",
            "[-11.56182566  17.28382566] [ 6.03127548 -4.7506598 ]\n"
          ]
        },
        {
          "output_type": "display_data",
          "data": {
            "text/plain": [
              "<Figure size 792x288 with 1 Axes>"
            ],
            "image/png": "[encoded data removed]"
          },
          "metadata": {
            "needs_background": "light"
          }
        }
      ]
    },
    {
      "cell_type": "code",
      "source": [
        "# 2. MNIST에 SVM 분류기 학습시켜보기\n",
        "\n",
        "from sklearn.datasets import fetch_openml\n",
        "import numpy as np\n",
        "mnist = fetch_openml('mnist_784', version=1, cache=True)\n",
        "\n",
        "X = mnist[\"data\"]\n",
        "y = mnist[\"target\"].astype(np.uint8)\n",
        "\n",
        "X_train = X[:60000]\n",
        "y_train = y[:60000]\n",
        "X_test = X[60000:]\n",
        "y_test = y[60000:]"
      ],
      "metadata": {
        "id": "iZ68NmwmlxLF"
      },
      "execution_count": 14,
      "outputs": []
    },
    {
      "cell_type": "code",
      "source": [
        "lin_clf = LinearSVC(random_state=42)\n",
        "lin_clf.fit(X_train, y_train)"
      ],
      "metadata": {
        "colab": {
          "base_uri": "https://localhost:8080/"
        },
        "id": "w-5Geh5cn-ep",
        "outputId": "cbb0031c-65b8-4650-adc2-407cca5f99f0"
      },
      "execution_count": 15,
      "outputs": [
        {
          "output_type": "stream",
          "name": "stderr",
          "text": [
            "/usr/local/lib/python3.8/dist-packages/sklearn/svm/_base.py:1206: ConvergenceWarning: Liblinear failed to converge, increase the number of iterations.\n",
            "  warnings.warn(\n"
          ]
        },
        {
          "output_type": "execute_result",
          "data": {
            "text/plain": [
              "LinearSVC(random_state=42)"
            ]
          },
          "metadata": {},
          "execution_count": 15
        }
      ]
    },
    {
      "cell_type": "code",
      "source": [
        "# 좋지 않은 정확도. 일단 스케일링을 하지 않았기 때문.\n",
        "\n",
        "from sklearn.metrics import accuracy_score\n",
        "\n",
        "y_pred=lin_clf.predict(X_train)\n",
        "accuracy_score(y_train, y_pred)"
      ],
      "metadata": {
        "colab": {
          "base_uri": "https://localhost:8080/"
        },
        "id": "XAnH8L3qpFp7",
        "outputId": "3ef7d040-82b2-419e-f95d-dec837e7778e"
      },
      "execution_count": 16,
      "outputs": [
        {
          "output_type": "execute_result",
          "data": {
            "text/plain": [
              "0.8348666666666666"
            ]
          },
          "metadata": {},
          "execution_count": 16
        }
      ]
    },
    {
      "cell_type": "code",
      "source": [
        "# 정규화 \n",
        "\n",
        "scaler = StandardScaler()\n",
        "X_train_scaled = scaler.fit_transform(X_train.astype(np.float32))\n",
        "X_test_scaled = scaler.transform(X_test.astype(np.float32))"
      ],
      "metadata": {
        "id": "rAgRjpgrpWdz"
      },
      "execution_count": 17,
      "outputs": []
    },
    {
      "cell_type": "code",
      "source": [
        "# 훈련 실행시간 13분\n",
        "\n",
        "lin_clf = LinearSVC(random_state=42)\n",
        "lin_clf.fit(X_train_scaled, y_train)"
      ],
      "metadata": {
        "colab": {
          "base_uri": "https://localhost:8080/"
        },
        "id": "Dp7A6HB0rHy0",
        "outputId": "39f88673-4362-4abd-83d8-777eba8b1803"
      },
      "execution_count": 18,
      "outputs": [
        {
          "output_type": "stream",
          "name": "stderr",
          "text": [
            "/usr/local/lib/python3.8/dist-packages/sklearn/svm/_base.py:1206: ConvergenceWarning: Liblinear failed to converge, increase the number of iterations.\n",
            "  warnings.warn(\n"
          ]
        },
        {
          "output_type": "execute_result",
          "data": {
            "text/plain": [
              "LinearSVC(random_state=42)"
            ]
          },
          "metadata": {},
          "execution_count": 18
        }
      ]
    },
    {
      "cell_type": "code",
      "source": [
        "# 에러율이 절반으로 줄은 것을 확인 가능\n",
        "\n",
        "y_pred = lin_clf.predict(X_train_scaled)\n",
        "accuracy_score(y_train, y_pred)"
      ],
      "metadata": {
        "colab": {
          "base_uri": "https://localhost:8080/"
        },
        "id": "OD8t1oWbrPMG",
        "outputId": "ca89b58f-2da9-4b98-d6d8-d882b1990189"
      },
      "execution_count": 20,
      "outputs": [
        {
          "output_type": "execute_result",
          "data": {
            "text/plain": [
              "0.9214"
            ]
          },
          "metadata": {},
          "execution_count": 20
        }
      ]
    },
    {
      "cell_type": "code",
      "source": [
        "# LinearSVC가 아닌 SVC 클래스 사용해보기\n",
        "# LinearSVC에 비해 시간 엄청 오래 걸리므로 10000개만\n",
        "\n",
        "svm_clf = SVC(gamma=\"scale\")\n",
        "svm_clf.fit(X_train_scaled[:10000], y_train[:10000])"
      ],
      "metadata": {
        "colab": {
          "base_uri": "https://localhost:8080/"
        },
        "id": "7jkyHsusrPOP",
        "outputId": "468d235c-8944-4cab-b022-f00518959f06"
      },
      "execution_count": 21,
      "outputs": [
        {
          "output_type": "execute_result",
          "data": {
            "text/plain": [
              "SVC()"
            ]
          },
          "metadata": {},
          "execution_count": 21
        }
      ]
    },
    {
      "cell_type": "code",
      "source": [
        "# 6배나 적은 샘플수로 훈련했는데도 결과가 훨씬 좋다\n",
        "# 실행시간 4분\n",
        "\n",
        "y_pred = svm_clf.predict(X_train_scaled)\n",
        "accuracy_score(y_train, y_pred)"
      ],
      "metadata": {
        "colab": {
          "base_uri": "https://localhost:8080/"
        },
        "id": "3dYVbgO4uzpA",
        "outputId": "1c4ebbcd-76ff-4e8e-b3fd-e72d7e97552d"
      },
      "execution_count": 22,
      "outputs": [
        {
          "output_type": "execute_result",
          "data": {
            "text/plain": [
              "0.9455333333333333"
            ]
          },
          "metadata": {},
          "execution_count": 22
        }
      ]
    },
    {
      "cell_type": "code",
      "source": [
        "# 최적 파라미터 찾는 함수 RandomizedSearchCV\n",
        "# GridSearchCV에 비해 조금 덜 최적인 값을 찾긴 하지만\n",
        "# 시간 면에서 확실히 효율적이다. (n_iter로 반복 횟수 제한함)\n",
        "\n",
        "from sklearn.model_selection import RandomizedSearchCV\n",
        "from scipy.stats import reciprocal, uniform\n",
        "\n",
        "param_distributions = {\"gamma\": reciprocal(0.001, 0.1), \"C\": uniform(1, 10)}\n",
        "rnd_search_cv = RandomizedSearchCV(svm_clf, param_distributions, n_iter=10, verbose=2, cv=3)\n",
        "rnd_search_cv.fit(X_train_scaled[:1000], y_train[:1000])"
      ],
      "metadata": {
        "colab": {
          "base_uri": "https://localhost:8080/"
        },
        "id": "lCt--fbVvJpD",
        "outputId": "d0161f74-c773-4337-fa84-ef1cd28386c0"
      },
      "execution_count": 23,
      "outputs": [
        {
          "output_type": "stream",
          "name": "stdout",
          "text": [
            "Fitting 3 folds for each of 10 candidates, totalling 30 fits\n",
            "[CV] END ....C=5.392994344474853, gamma=0.007688131124253573; total time=   0.4s\n",
            "[CV] END ....C=5.392994344474853, gamma=0.007688131124253573; total time=   0.3s\n",
            "[CV] END ....C=5.392994344474853, gamma=0.007688131124253573; total time=   0.4s\n",
            "[CV] END ....C=10.904229623037404, gamma=0.06762346647096802; total time=   0.4s\n",
            "[CV] END ....C=10.904229623037404, gamma=0.06762346647096802; total time=   0.4s\n",
            "[CV] END ....C=10.904229623037404, gamma=0.06762346647096802; total time=   0.4s\n",
            "[CV] END ....C=2.839167987229826, gamma=0.014959210253064799; total time=   0.4s\n",
            "[CV] END ....C=2.839167987229826, gamma=0.014959210253064799; total time=   0.3s\n",
            "[CV] END ....C=2.839167987229826, gamma=0.014959210253064799; total time=   0.4s\n",
            "[CV] END ...C=5.196237507179794, gamma=0.0020044592655654265; total time=   0.3s\n",
            "[CV] END ...C=5.196237507179794, gamma=0.0020044592655654265; total time=   0.3s\n",
            "[CV] END ...C=5.196237507179794, gamma=0.0020044592655654265; total time=   0.3s\n",
            "[CV] END .....C=4.9199891549764, gamma=0.0016200662374377358; total time=   0.3s\n",
            "[CV] END .....C=4.9199891549764, gamma=0.0016200662374377358; total time=   0.3s\n",
            "[CV] END .....C=4.9199891549764, gamma=0.0016200662374377358; total time=   0.3s\n",
            "[CV] END ..C=3.8504945480206723, gamma=0.0024113297669877323; total time=   0.3s\n",
            "[CV] END ..C=3.8504945480206723, gamma=0.0024113297669877323; total time=   0.3s\n",
            "[CV] END ..C=3.8504945480206723, gamma=0.0024113297669877323; total time=   0.3s\n",
            "[CV] END ...C=10.168183317399725, gamma=0.006258919736820573; total time=   0.3s\n",
            "[CV] END ...C=10.168183317399725, gamma=0.006258919736820573; total time=   0.4s\n",
            "[CV] END ...C=10.168183317399725, gamma=0.006258919736820573; total time=   0.3s\n",
            "[CV] END ...C=6.062333099460855, gamma=0.0022883310334884076; total time=   0.3s\n",
            "[CV] END ...C=6.062333099460855, gamma=0.0022883310334884076; total time=   0.3s\n",
            "[CV] END ...C=6.062333099460855, gamma=0.0022883310334884076; total time=   0.3s\n",
            "[CV] END ......C=10.72139932477147, gamma=0.0659417347270003; total time=   0.4s\n",
            "[CV] END ......C=10.72139932477147, gamma=0.0659417347270003; total time=   0.4s\n",
            "[CV] END ......C=10.72139932477147, gamma=0.0659417347270003; total time=   0.4s\n",
            "[CV] END ....C=3.285134867228588, gamma=0.004710809732203703; total time=   0.3s\n",
            "[CV] END ....C=3.285134867228588, gamma=0.004710809732203703; total time=   0.3s\n",
            "[CV] END ....C=3.285134867228588, gamma=0.004710809732203703; total time=   0.3s\n"
          ]
        },
        {
          "output_type": "execute_result",
          "data": {
            "text/plain": [
              "RandomizedSearchCV(cv=3, estimator=SVC(),\n",
              "                   param_distributions={'C': <scipy.stats._distn_infrastructure.rv_frozen object at 0x7fc8fa7a17f0>,\n",
              "                                        'gamma': <scipy.stats._distn_infrastructure.rv_frozen object at 0x7fc8fa79d550>},\n",
              "                   verbose=2)"
            ]
          },
          "metadata": {},
          "execution_count": 23
        }
      ]
    },
    {
      "cell_type": "code",
      "source": [
        "rnd_search_cv.best_estimator_"
      ],
      "metadata": {
        "colab": {
          "base_uri": "https://localhost:8080/"
        },
        "id": "5IA4kLDEvJzO",
        "outputId": "6eed016f-7271-406e-fecf-3ab21234875f"
      },
      "execution_count": 24,
      "outputs": [
        {
          "output_type": "execute_result",
          "data": {
            "text/plain": [
              "SVC(C=4.9199891549764, gamma=0.0016200662374377358)"
            ]
          },
          "metadata": {},
          "execution_count": 24
        }
      ]
    },
    {
      "cell_type": "code",
      "source": [
        "# 1000개의 샘플(60분의 1...)만 사용해서 정확도가 낮게 나왔다\n",
        "# 모든 샘플을 넣어 돌린다면 최적 파라미터일때 모델 정확도는 대락 0.99로 훌륭하게 나온다\n",
        "# 다만 실행 시 몇 시간이 걸리므로 위와 같이 하는 방법만 알아두기\n",
        "\n",
        "rnd_search_cv.best_score_"
      ],
      "metadata": {
        "colab": {
          "base_uri": "https://localhost:8080/"
        },
        "id": "5dQUj_EBw5p_",
        "outputId": "3e300286-1586-4b3c-d082-7c383679e829"
      },
      "execution_count": 25,
      "outputs": [
        {
          "output_type": "execute_result",
          "data": {
            "text/plain": [
              "0.8609957262651874"
            ]
          },
          "metadata": {},
          "execution_count": 25
        }
      ]
    },
    {
      "cell_type": "code",
      "source": [
        "# 3. 캘리포니아 주택 가격 데이터셋에 SVM 회귀 훈련\n",
        "\n",
        "from sklearn.datasets import fetch_california_housing\n",
        "\n",
        "housing = fetch_california_housing()\n",
        "X = housing[\"data\"]\n",
        "y = housing[\"target\"]"
      ],
      "metadata": {
        "id": "yen4y6L6xfNO"
      },
      "execution_count": 26,
      "outputs": []
    },
    {
      "cell_type": "code",
      "source": [
        "from sklearn.model_selection import train_test_split\n",
        "\n",
        "X_train, X_test, y_train, y_test = train_test_split(X,y, test_size=0.2, random_state=42)\n",
        "\n"
      ],
      "metadata": {
        "id": "hmzMu39lybj_"
      },
      "execution_count": 27,
      "outputs": []
    },
    {
      "cell_type": "code",
      "source": [
        "# 주의!! X_test_scaled는 X_train_scaled에서 변환때 쓴 계수로 변환해야 함\n",
        "# 즉, fit()을 다시 쓰면 안됨(?)\n",
        "\n",
        "from sklearn.preprocessing import StandardScaler\n",
        "\n",
        "scaler=StandardScaler()\n",
        "X_train_scaled=scaler.fit_transform(X_train)\n",
        "X_test_scaled=scaler.transform(X_test)"
      ],
      "metadata": {
        "id": "qPLk9w37ytPs"
      },
      "execution_count": 39,
      "outputs": []
    },
    {
      "cell_type": "code",
      "source": [
        "# 분류가 아니라 값 예측이므로 회귀 사용\n",
        "\n",
        "from sklearn.svm import LinearSVR\n",
        "\n",
        "lin_svr = LinearSVR(random_state=42)\n",
        "lin_svr.fit(X_train_scaled, y_train)"
      ],
      "metadata": {
        "colab": {
          "base_uri": "https://localhost:8080/"
        },
        "id": "i277_ppRy9Xh",
        "outputId": "c2202fb9-53e5-4fb8-b75c-c35a38e7c581"
      },
      "execution_count": 30,
      "outputs": [
        {
          "output_type": "stream",
          "name": "stderr",
          "text": [
            "/usr/local/lib/python3.8/dist-packages/sklearn/svm/_base.py:1206: ConvergenceWarning: Liblinear failed to converge, increase the number of iterations.\n",
            "  warnings.warn(\n"
          ]
        },
        {
          "output_type": "execute_result",
          "data": {
            "text/plain": [
              "LinearSVR(random_state=42)"
            ]
          },
          "metadata": {},
          "execution_count": 30
        }
      ]
    },
    {
      "cell_type": "code",
      "source": [
        "# RMSE가 0.98,(즉 데이터 숫자 단위(1)만큼 차이난다는 뜻) \n",
        "# 실제 데이터셋에서 단위는 10,000$이므로 대략 그만큼 차이난다고 생각 \n",
        "\n",
        "from sklearn.metrics import mean_squared_error\n",
        "\n",
        "y_pred = lin_svr.predict(X_train_scaled)\n",
        "mse = mean_squared_error(y_train, y_pred)\n",
        "np.sqrt(mse)"
      ],
      "metadata": {
        "colab": {
          "base_uri": "https://localhost:8080/"
        },
        "id": "4MH-G1S0zEJG",
        "outputId": "3151d84e-63a0-4c9f-f036-132f436f99e3"
      },
      "execution_count": 32,
      "outputs": [
        {
          "output_type": "execute_result",
          "data": {
            "text/plain": [
              "0.9819256687727764"
            ]
          },
          "metadata": {},
          "execution_count": 32
        }
      ]
    },
    {
      "cell_type": "code",
      "source": [
        "# RandomizedSearchCV를 이용한 최적 파라미터 찾기 (실행시간 )\n",
        "\n",
        "from sklearn.svm import SVR\n",
        "from sklearn.model_selection import RandomizedSearchCV\n",
        "from scipy.stats import reciprocal, uniform\n",
        "\n",
        "param_distributions = {\"gamma\": reciprocal(0.001, 0.1), \"C\": uniform(1, 10)}\n",
        "rnd_search_cv = RandomizedSearchCV(SVR(), param_distributions, n_iter=10, verbose=2, cv=3, random_state=42)\n",
        "rnd_search_cv.fit(X_train_scaled, y_train)"
      ],
      "metadata": {
        "colab": {
          "base_uri": "https://localhost:8080/"
        },
        "id": "ll7Z3ohrzm7b",
        "outputId": "2bf841ef-d895-4e91-d9ce-4e4c8dd48f21"
      },
      "execution_count": 34,
      "outputs": [
        {
          "output_type": "stream",
          "name": "stdout",
          "text": [
            "Fitting 3 folds for each of 10 candidates, totalling 30 fits\n",
            "[CV] END .....C=4.745401188473625, gamma=0.07969454818643928; total time=  27.9s\n",
            "[CV] END .....C=4.745401188473625, gamma=0.07969454818643928; total time=  24.1s\n",
            "[CV] END .....C=4.745401188473625, gamma=0.07969454818643928; total time=  11.1s\n",
            "[CV] END .....C=8.31993941811405, gamma=0.015751320499779724; total time=  11.7s\n",
            "[CV] END .....C=8.31993941811405, gamma=0.015751320499779724; total time=  10.4s\n",
            "[CV] END .....C=8.31993941811405, gamma=0.015751320499779724; total time=  10.5s\n",
            "[CV] END ....C=2.560186404424365, gamma=0.002051110418843397; total time=   9.9s\n",
            "[CV] END ....C=2.560186404424365, gamma=0.002051110418843397; total time=  10.0s\n",
            "[CV] END ....C=2.560186404424365, gamma=0.002051110418843397; total time=  10.5s\n",
            "[CV] END ....C=1.5808361216819946, gamma=0.05399484409787431; total time=   9.8s\n",
            "[CV] END ....C=1.5808361216819946, gamma=0.05399484409787431; total time=  11.0s\n",
            "[CV] END ....C=1.5808361216819946, gamma=0.05399484409787431; total time=   9.9s\n",
            "[CV] END ....C=7.011150117432088, gamma=0.026070247583707663; total time=  11.1s\n",
            "[CV] END ....C=7.011150117432088, gamma=0.026070247583707663; total time=  10.6s\n",
            "[CV] END ....C=7.011150117432088, gamma=0.026070247583707663; total time=  10.6s\n",
            "[CV] END .....C=1.2058449429580245, gamma=0.0870602087830485; total time=   9.7s\n",
            "[CV] END .....C=1.2058449429580245, gamma=0.0870602087830485; total time=   9.7s\n",
            "[CV] END .....C=1.2058449429580245, gamma=0.0870602087830485; total time=  10.8s\n",
            "[CV] END ...C=9.324426408004218, gamma=0.0026587543983272693; total time=  11.4s\n",
            "[CV] END ...C=9.324426408004218, gamma=0.0026587543983272693; total time=  10.0s\n",
            "[CV] END ...C=9.324426408004218, gamma=0.0026587543983272693; total time=   9.9s\n",
            "[CV] END ...C=2.818249672071006, gamma=0.0023270677083837795; total time=  11.0s\n",
            "[CV] END ...C=2.818249672071006, gamma=0.0023270677083837795; total time=   9.8s\n",
            "[CV] END ...C=2.818249672071006, gamma=0.0023270677083837795; total time=   9.9s\n",
            "[CV] END ....C=4.042422429595377, gamma=0.011207606211860567; total time=   9.9s\n",
            "[CV] END ....C=4.042422429595377, gamma=0.011207606211860567; total time=   9.9s\n",
            "[CV] END ....C=4.042422429595377, gamma=0.011207606211860567; total time=  10.0s\n",
            "[CV] END ....C=5.319450186421157, gamma=0.003823475224675185; total time=  11.9s\n",
            "[CV] END ....C=5.319450186421157, gamma=0.003823475224675185; total time=  15.2s\n",
            "[CV] END ....C=5.319450186421157, gamma=0.003823475224675185; total time=  11.9s\n"
          ]
        },
        {
          "output_type": "execute_result",
          "data": {
            "text/plain": [
              "RandomizedSearchCV(cv=3, estimator=SVR(),\n",
              "                   param_distributions={'C': <scipy.stats._distn_infrastructure.rv_frozen object at 0x7fc902385280>,\n",
              "                                        'gamma': <scipy.stats._distn_infrastructure.rv_frozen object at 0x7fc8fa805ee0>},\n",
              "                   random_state=42, verbose=2)"
            ]
          },
          "metadata": {},
          "execution_count": 34
        }
      ]
    },
    {
      "cell_type": "code",
      "source": [
        "rnd_search_cv.best_estimator_"
      ],
      "metadata": {
        "colab": {
          "base_uri": "https://localhost:8080/"
        },
        "id": "1Ct1kdnkzzGa",
        "outputId": "d0aa05fb-a1f6-42ca-9fbd-085fd8323e72"
      },
      "execution_count": 35,
      "outputs": [
        {
          "output_type": "execute_result",
          "data": {
            "text/plain": [
              "SVR(C=4.745401188473625, gamma=0.07969454818643928)"
            ]
          },
          "metadata": {},
          "execution_count": 35
        }
      ]
    },
    {
      "cell_type": "code",
      "source": [
        "# 오차(RMSE)가 꽤 많이 줄어든 것을 확인 가능\n",
        "\n",
        "y_pred = rnd_search_cv.best_estimator_.predict(X_train_scaled)\n",
        "mse = mean_squared_error(y_train, y_pred)\n",
        "np.sqrt(mse)"
      ],
      "metadata": {
        "colab": {
          "base_uri": "https://localhost:8080/"
        },
        "id": "VbMHPLri06Ik",
        "outputId": "f3c1498a-a4d4-46b4-cb78-12c542e8aff1"
      },
      "execution_count": 36,
      "outputs": [
        {
          "output_type": "execute_result",
          "data": {
            "text/plain": [
              "0.5727524770785356"
            ]
          },
          "metadata": {},
          "execution_count": 36
        }
      ]
    },
    {
      "cell_type": "code",
      "source": [
        "# 테스트셋에서 성능 확인. 훈련 세트와 비슷한 오차로 준수한 결과를 볼 수 있음\n",
        "\n",
        "y_pred = rnd_search_cv.best_estimator_.predict(X_test_scaled)\n",
        "mse = mean_squared_error(y_test, y_pred)\n",
        "np.sqrt(mse)"
      ],
      "metadata": {
        "colab": {
          "base_uri": "https://localhost:8080/"
        },
        "id": "McvOX9xl08oU",
        "outputId": "553b007e-77a6-423e-dd4c-5efe8b2163f9"
      },
      "execution_count": 40,
      "outputs": [
        {
          "output_type": "execute_result",
          "data": {
            "text/plain": [
              "0.592916838552874"
            ]
          },
          "metadata": {},
          "execution_count": 40
        }
      ]
    },
    {
      "cell_type": "code",
      "source": [],
      "metadata": {
        "id": "jcQZLbM62VXs"
      },
      "execution_count": null,
      "outputs": []
    }
  ]
}