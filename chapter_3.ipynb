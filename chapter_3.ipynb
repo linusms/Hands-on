{
  "nbformat": 4,
  "nbformat_minor": 0,
  "metadata": {
    "colab": {
      "provenance": [],
      "authorship_tag": "ABX9TyP0MB52uOQp+uwR2MpH9L2L",
      "include_colab_link": true
    },
    "kernelspec": {
      "name": "python3",
      "display_name": "Python 3"
    },
    "language_info": {
      "name": "python"
    }
  },
  "cells": [
    {
      "cell_type": "markdown",
      "metadata": {
        "id": "view-in-github",
        "colab_type": "text"
      },
      "source": [
        "<a href=\"https://colab.research.google.com/github/linusms/Hands-on/blob/main/chapter_3.ipynb\" target=\"_parent\"><img src=\"https://colab.research.google.com/assets/colab-badge.svg\" alt=\"Open In Colab\"/></a>"
      ]
    },
    {
      "cell_type": "code",
      "source": [
        "!sudo apt-get install -y fonts-nanum\n",
        "!sudo fc-cache -fv\n",
        "!rm ~/.cache/matplotlib -rf"
      ],
      "metadata": {
        "colab": {
          "base_uri": "https://localhost:8080/"
        },
        "id": "6n-gulWAR_9S",
        "outputId": "e4b5c791-4463-4d5c-cd58-5b93a99eba86"
      },
      "execution_count": 46,
      "outputs": [
        {
          "output_type": "stream",
          "name": "stdout",
          "text": [
            "Reading package lists... Done\n",
            "Building dependency tree       \n",
            "Reading state information... Done\n",
            "The following package was automatically installed and is no longer required:\n",
            "  libnvidia-common-460\n",
            "Use 'sudo apt autoremove' to remove it.\n",
            "The following NEW packages will be installed:\n",
            "  fonts-nanum\n",
            "0 upgraded, 1 newly installed, 0 to remove and 20 not upgraded.\n",
            "Need to get 9,604 kB of archives.\n",
            "After this operation, 29.5 MB of additional disk space will be used.\n",
            "Get:1 http://archive.ubuntu.com/ubuntu bionic/universe amd64 fonts-nanum all 20170925-1 [9,604 kB]\n",
            "Fetched 9,604 kB in 0s (21.3 MB/s)\n",
            "debconf: unable to initialize frontend: Dialog\n",
            "debconf: (No usable dialog-like program is installed, so the dialog based frontend cannot be used. at /usr/share/perl5/Debconf/FrontEnd/Dialog.pm line 76, <> line 1.)\n",
            "debconf: falling back to frontend: Readline\n",
            "debconf: unable to initialize frontend: Readline\n",
            "debconf: (This frontend requires a controlling tty.)\n",
            "debconf: falling back to frontend: Teletype\n",
            "dpkg-preconfigure: unable to re-open stdin: \n",
            "Selecting previously unselected package fonts-nanum.\n",
            "(Reading database ... 124016 files and directories currently installed.)\n",
            "Preparing to unpack .../fonts-nanum_20170925-1_all.deb ...\n",
            "Unpacking fonts-nanum (20170925-1) ...\n",
            "Setting up fonts-nanum (20170925-1) ...\n",
            "Processing triggers for fontconfig (2.12.6-0ubuntu2) ...\n",
            "/usr/share/fonts: caching, new cache contents: 0 fonts, 1 dirs\n",
            "/usr/share/fonts/truetype: caching, new cache contents: 0 fonts, 3 dirs\n",
            "/usr/share/fonts/truetype/humor-sans: caching, new cache contents: 1 fonts, 0 dirs\n",
            "/usr/share/fonts/truetype/liberation: caching, new cache contents: 16 fonts, 0 dirs\n",
            "/usr/share/fonts/truetype/nanum: caching, new cache contents: 10 fonts, 0 dirs\n",
            "/usr/local/share/fonts: caching, new cache contents: 0 fonts, 0 dirs\n",
            "/root/.local/share/fonts: skipping, no such directory\n",
            "/root/.fonts: skipping, no such directory\n",
            "/var/cache/fontconfig: cleaning cache directory\n",
            "/root/.cache/fontconfig: not cleaning non-existent cache directory\n",
            "/root/.fontconfig: not cleaning non-existent cache directory\n",
            "fc-cache: succeeded\n"
          ]
        }
      ]
    },
    {
      "cell_type": "code",
      "source": [
        "import matplotlib.pyplot as plt\n",
        "\n",
        "plt.rc('font', family='NanumBarunGothic') "
      ],
      "metadata": {
        "id": "imXJo787SHV1"
      },
      "execution_count": 1,
      "outputs": []
    },
    {
      "cell_type": "code",
      "execution_count": 2,
      "metadata": {
        "colab": {
          "base_uri": "https://localhost:8080/"
        },
        "id": "RiLDXvxxi-Ns",
        "outputId": "7a9aa785-c46b-477f-8d58-4b78352cbb8b"
      },
      "outputs": [
        {
          "output_type": "execute_result",
          "data": {
            "text/plain": [
              "dict_keys(['data', 'target', 'frame', 'categories', 'feature_names', 'target_names', 'DESCR', 'details', 'url'])"
            ]
          },
          "metadata": {},
          "execution_count": 2
        }
      ],
      "source": [
        "from sklearn.datasets import fetch_openml\n",
        "\n",
        "mnist=fetch_openml('mnist_784', version=1, as_frame=False)\n",
        "mnist.keys()\n"
      ]
    },
    {
      "cell_type": "code",
      "source": [
        "X,y=mnist['data'], mnist['target']\n",
        "X.shape"
      ],
      "metadata": {
        "colab": {
          "base_uri": "https://localhost:8080/"
        },
        "id": "7K8eQJFFkY4n",
        "outputId": "54f2d7b6-b912-48db-fa21-542e50f54770"
      },
      "execution_count": 3,
      "outputs": [
        {
          "output_type": "execute_result",
          "data": {
            "text/plain": [
              "(70000, 784)"
            ]
          },
          "metadata": {},
          "execution_count": 3
        }
      ]
    },
    {
      "cell_type": "code",
      "source": [
        "y.shape"
      ],
      "metadata": {
        "colab": {
          "base_uri": "https://localhost:8080/"
        },
        "id": "XeerjVB4kaNe",
        "outputId": "a654b55d-8d46-44bc-c3c8-369002455af2"
      },
      "execution_count": 4,
      "outputs": [
        {
          "output_type": "execute_result",
          "data": {
            "text/plain": [
              "(70000,)"
            ]
          },
          "metadata": {},
          "execution_count": 4
        }
      ]
    },
    {
      "cell_type": "code",
      "source": [
        "import matplotlib as mpl\n",
        "import matplotlib.pyplot as plt\n",
        "import numpy as np\n",
        "\n",
        "# 70000개의 이미지에 각각 28*28=784개의 픽셀 존재. 각 픽셀마다 픽셀 강도(0~255)를 값으로 가짐\n",
        "# 샘플의 특성 벡터들, 1*784 배열을 28*28 배열로 나타냄(reshape)\n",
        "\n",
        "some_digit=X[0]\n",
        "some_digit_image=some_digit.reshape(28,28)\n",
        "\n",
        "\n",
        "plt.imshow(some_digit_image, cmap='binary')\n",
        "plt.axis('off')\n",
        "plt.show()\n",
        "\n",
        "# 해당 샘플의 레이블 확인. 유추했던 5와 같음\n",
        "# 레이블은 문자열. 이를 정수로 변환하는 게 머신러닝 알고리즘에 도움\n",
        "print(y[0])\n",
        "y=y.astype(np.uint8)"
      ],
      "metadata": {
        "colab": {
          "base_uri": "https://localhost:8080/",
          "height": 267
        },
        "id": "C15wa0YekaX2",
        "outputId": "acb2d808-6fb7-42bc-dc19-9ff179d644de"
      },
      "execution_count": 5,
      "outputs": [
        {
          "output_type": "display_data",
          "data": {
            "text/plain": [
              "<Figure size 432x288 with 1 Axes>"
            ],
            "image/png": "[encoded data removed]"
          },
          "metadata": {
            "needs_background": "light"
          }
        },
        {
          "output_type": "stream",
          "name": "stdout",
          "text": [
            "5\n"
          ]
        }
      ]
    },
    {
      "cell_type": "code",
      "source": [
        "X_train, X_test, y_train, y_test=X[:60000], X[60000:], y[:60000], y[60000:]"
      ],
      "metadata": {
        "id": "1AMYgwDZsoZZ"
      },
      "execution_count": 6,
      "outputs": []
    },
    {
      "cell_type": "code",
      "source": [
        "# 이진 분류기(5는 True, 다른 숫자는 False 반환)\n",
        "# y_train_5의 자료형은 배열\n",
        "\n",
        "y_train_5=(y_train==5)\n",
        "y_test_5=(y_test==5)"
      ],
      "metadata": {
        "id": "vWAfSWbns24I"
      },
      "execution_count": 7,
      "outputs": []
    },
    {
      "cell_type": "code",
      "source": [
        "# 확률적 경사 하강법 분류기 이용. \n",
        "# X_train이라는 훈련 데이터와 y_train_5라는 target값 지정\n",
        "# y_train_5는 훈련 데이터의 레이블이 5일 경우 1(True), 아니면 0(False)을 반환\n",
        "# 이진 분류기 사용을 위해 레이블을 0 또는 1로 변경\n",
        "\n",
        "from sklearn.linear_model import SGDClassifier\n",
        "sgd_clf=SGDClassifier(random_state=42)\n",
        "sgd_clf.fit(X_train,y_train_5)"
      ],
      "metadata": {
        "colab": {
          "base_uri": "https://localhost:8080/"
        },
        "id": "R-6mdJz7l40F",
        "outputId": "8b527a06-2c43-4b72-b9bd-911f18f4e951"
      },
      "execution_count": 8,
      "outputs": [
        {
          "output_type": "execute_result",
          "data": {
            "text/plain": [
              "SGDClassifier(random_state=42)"
            ]
          },
          "metadata": {},
          "execution_count": 8
        }
      ]
    },
    {
      "cell_type": "code",
      "source": [
        "# 학습된 모델을 토대로 예측하기\n",
        "# True 값이 나오는 array 반환(타겟 값도 array 자료형이었으므로?)\n",
        "\n",
        "sgd_clf.predict([some_digit])\n"
      ],
      "metadata": {
        "colab": {
          "base_uri": "https://localhost:8080/"
        },
        "id": "ZYd_Gt2zsHRV",
        "outputId": "2cd02f2e-095f-4175-bb26-7e23c8a1f3ea"
      },
      "execution_count": 9,
      "outputs": [
        {
          "output_type": "execute_result",
          "data": {
            "text/plain": [
              "array([ True])"
            ]
          },
          "metadata": {},
          "execution_count": 9
        }
      ]
    },
    {
      "cell_type": "code",
      "source": [
        "# 참고 : k-겹 교차 검증 수행 코드 구현해보기\n",
        "# 이는 cross_val_score() 함수와 거의 동일한 기능 수행(분류에서는)\n",
        "\n",
        "# skfolds는 StratifiedKFold 객체\n",
        "# skfolds.split은 이 객체를 훈련 데이터와 테스트 데이터로 나누는 메서드\n",
        "# KFold와는 달리 split 시 레이블도 매개변수로 받아야 함(필수)\n",
        "# why? 레이블 분포도에 따라 폴드를 나누는 방법이기 때문\n",
        "# 먼저 \n",
        "\n",
        "from sklearn.model_selection import StratifiedKFold\n",
        "from sklearn.base import clone\n",
        "\n",
        "# 질문: StratifiedKFold는 뷴류기이다. 왜 굳이 split 메소드를 쓰기 위해 이 객체를 지정해야 하는지?\n",
        "# 어차피 폴드 생성을 위한 것이라면, 그냥 StratifiedKFold라는 함수 내지 메소드를 만들었으면 좋았을텐데..\n",
        "# 왜 StratifiedKFold를 클래스로 만들었는지 궁금. 폴드 나누기 이외에도 이 객체가 자주 쓰이는가?\n",
        "\n",
        "skfolds=StratifiedKFold(n_splits=3, random_state=42, shuffle=True)\n",
        "\n",
        "# StratifiedKFold 객체에 내장된 메소드인 split을 이용해 훈련 세트/테스트 세트가 될 샘플들의 인덱스를 추출 \n",
        "# 깨알같은 folds와 fold의 차이(즉, 훈련 세트들이 될 폴드'들'과 테스트 세트가 되는 폴드의 차이) 유의\n",
        "for train_index, test_index in skfolds.split(X_train, y_train_5):\n",
        "  clone_clf=clone(sgd_clf)\n",
        "  X_train_folds=X_train[train_index]\n",
        "  y_train_folds=y_train_5[train_index]\n",
        "  X_test_fold=X_train[test_index]\n",
        "  y_test_fold=y_train_5[test_index]\n",
        "\n",
        "  # clone_clf는 앞서 사용한 SGD 분류기 모델의 복사본 \n",
        "  clone_clf.fit(X_train_folds, y_train_folds)\n",
        "  y_pred=clone_clf.predict(X_test_fold)\n",
        "  n_correct=sum(y_pred==y_test_fold)\n",
        "\n",
        "  # 정답 개수 / 총 예측값들 개수\n",
        "  print(n_correct / len(y_pred))"
      ],
      "metadata": {
        "colab": {
          "base_uri": "https://localhost:8080/"
        },
        "id": "16JIfuyql43c",
        "outputId": "fcaafd9c-2675-4997-80b0-b32d2ccb805c"
      },
      "execution_count": 10,
      "outputs": [
        {
          "output_type": "stream",
          "name": "stdout",
          "text": [
            "0.9669\n",
            "0.91625\n",
            "0.96785\n"
          ]
        }
      ]
    },
    {
      "cell_type": "code",
      "source": [
        "# 정확도가 95% 이상\n",
        "\n",
        "from sklearn.model_selection import cross_val_score\n",
        "\n",
        "cross_val_score(sgd_clf, X_train, y_train_5, cv=3, scoring='accuracy')"
      ],
      "metadata": {
        "colab": {
          "base_uri": "https://localhost:8080/"
        },
        "id": "QKBQAsNml46A",
        "outputId": "5277e436-3dcd-45aa-eace-1a141a94f1e4"
      },
      "execution_count": 11,
      "outputs": [
        {
          "output_type": "execute_result",
          "data": {
            "text/plain": [
              "array([0.95035, 0.96035, 0.9604 ])"
            ]
          },
          "metadata": {},
          "execution_count": 11
        }
      ]
    },
    {
      "cell_type": "code",
      "source": [
        "from sklearn.base import BaseEstimator\n",
        "\n",
        "# Never5Classifier라는 클래스 생성. 즉 5를 분류하는 분류기 생성\n",
        "# 앞서 배웠듯이, BaseEstimator 계승을 통해 get_params, set_params 함수 갖다쓰기\n",
        "\n",
        "class Never5Classifier(BaseEstimator):\n",
        "  def fit(self, X, y=None):\n",
        "    return self\n",
        "  def predict(self, X):\n",
        "    return np.zeros((len(X),1), dtype=bool)"
      ],
      "metadata": {
        "id": "YPfhSgVMl48R"
      },
      "execution_count": 12,
      "outputs": []
    },
    {
      "cell_type": "code",
      "source": [
        "# 정확도가 90% 이상. 하지만 데이터의 10%만 숫자 5이기 때문에\n",
        "# 사실상 의미 없는 정확도. 이는 불균형한 데이터셋(특정 카테고리값이 다른 것보다 월등히 많은 경우) 흔히 발생하는 문제\n",
        "# 정확도를 분류기의 성능 측정 지표로 선호하지 않는 이유\n",
        "\n",
        "never_5_clf=Never5Classifier()\n",
        "\n",
        "cross_val_score(never_5_clf, X_train, y_train_5, cv=3, scoring='accuracy')"
      ],
      "metadata": {
        "colab": {
          "base_uri": "https://localhost:8080/"
        },
        "id": "UIJeFQoR9KuT",
        "outputId": "7dff6347-e78e-4046-b73b-bb0672d22998"
      },
      "execution_count": 13,
      "outputs": [
        {
          "output_type": "execute_result",
          "data": {
            "text/plain": [
              "array([0.91125, 0.90855, 0.90915])"
            ]
          },
          "metadata": {},
          "execution_count": 13
        }
      ]
    },
    {
      "cell_type": "code",
      "source": [
        "# 평가 점수가 아닌, 테스트 폴드에서 얻은 '예측' 반환\n",
        "# 훈련하는 동안 보지 못한 데이터에 대해 예측한 값 반환\n",
        "# y_train_pred에는 실제5-예측5, 실제5-예측5아님으로 분류된 예측값들 존재\n",
        "\n",
        "from sklearn.model_selection import cross_val_predict\n",
        "\n",
        "y_train_pred=cross_val_predict(sgd_clf, X_train, y_train_5, cv=3)"
      ],
      "metadata": {
        "id": "rg_6bFZgl5AV"
      },
      "execution_count": 14,
      "outputs": []
    },
    {
      "cell_type": "code",
      "source": [
        "# 오차 행렬 생성(오진률 표와 비슷)\n",
        "# 첫 행은 음성 클래스(5가 아닌 샘플들), 두번째 행은 양성 클래스(5가 아닌 샘플들)\n",
        "# 첫 열은 음성 판정(5가 아니라고 예측한 예측값의 수), 두번째 열은 양성 판정(5라고 예측)\n",
        "# 완벽한 분류기는 오답의 가능성이 없으므로 대각행렬이 될 것\n",
        "\n",
        "from sklearn.metrics import confusion_matrix\n",
        "confusion_matrix(y_train_5, y_train_pred)"
      ],
      "metadata": {
        "colab": {
          "base_uri": "https://localhost:8080/"
        },
        "id": "xhGl8rA8-ZhP",
        "outputId": "2a87cb60-ee52-4773-fb29-b248ebb558b7"
      },
      "execution_count": 15,
      "outputs": [
        {
          "output_type": "execute_result",
          "data": {
            "text/plain": [
              "array([[53892,   687],\n",
              "       [ 1891,  3530]])"
            ]
          },
          "metadata": {},
          "execution_count": 15
        }
      ]
    },
    {
      "cell_type": "code",
      "source": [
        "# 앞선 5분류기의 정밀도\n",
        "\n",
        "from sklearn.metrics import precision_score, recall_score\n",
        "precision_score(y_train_5, y_train_pred)\n"
      ],
      "metadata": {
        "colab": {
          "base_uri": "https://localhost:8080/"
        },
        "id": "_7_pTTVY_h5_",
        "outputId": "c0daeb89-cf21-4386-c6dd-dd7273928a36"
      },
      "execution_count": 16,
      "outputs": [
        {
          "output_type": "execute_result",
          "data": {
            "text/plain": [
              "0.8370879772350012"
            ]
          },
          "metadata": {},
          "execution_count": 16
        }
      ]
    },
    {
      "cell_type": "code",
      "source": [
        "recall_score(y_train_5, y_train_pred)"
      ],
      "metadata": {
        "colab": {
          "base_uri": "https://localhost:8080/"
        },
        "id": "FIcbGcZS_h8z",
        "outputId": "8b86d8d8-89c6-47db-b09d-8a6ef9f3dba7"
      },
      "execution_count": 17,
      "outputs": [
        {
          "output_type": "execute_result",
          "data": {
            "text/plain": [
              "0.6511713705958311"
            ]
          },
          "metadata": {},
          "execution_count": 17
        }
      ]
    },
    {
      "cell_type": "code",
      "source": [
        "from sklearn.metrics import f1_score\n",
        "f1_score(y_train_5, y_train_pred)"
      ],
      "metadata": {
        "colab": {
          "base_uri": "https://localhost:8080/"
        },
        "id": "spfIvqhr_h_I",
        "outputId": "6d95f426-5b44-4021-bec4-bde237fc9a4d"
      },
      "execution_count": 18,
      "outputs": [
        {
          "output_type": "execute_result",
          "data": {
            "text/plain": [
              "0.7325171197343846"
            ]
          },
          "metadata": {},
          "execution_count": 18
        }
      ]
    },
    {
      "cell_type": "code",
      "source": [
        "y_scores=sgd_clf.decision_function([some_digit])\n",
        "y_scores"
      ],
      "metadata": {
        "colab": {
          "base_uri": "https://localhost:8080/"
        },
        "id": "NmQiJ3AZ_iBW",
        "outputId": "5949f20c-a6fe-4f6d-ae6a-34e7a5ecbf35"
      },
      "execution_count": 19,
      "outputs": [
        {
          "output_type": "execute_result",
          "data": {
            "text/plain": [
              "array([2164.22030239])"
            ]
          },
          "metadata": {},
          "execution_count": 19
        }
      ]
    },
    {
      "cell_type": "code",
      "source": [
        "threshold=0\n",
        "y_some_digit_pred=(y_scores>threshold)\n",
        "y_some_digit_pred"
      ],
      "metadata": {
        "colab": {
          "base_uri": "https://localhost:8080/"
        },
        "id": "pnazqx32_iDh",
        "outputId": "fcbafbb2-68d1-459c-bf2e-87d4e8dd4ea1"
      },
      "execution_count": 20,
      "outputs": [
        {
          "output_type": "execute_result",
          "data": {
            "text/plain": [
              "array([ True])"
            ]
          },
          "metadata": {},
          "execution_count": 20
        }
      ]
    },
    {
      "cell_type": "code",
      "source": [
        "# cross_val_predict 함수에서 결정 점수를 반환받도록 method 지정\n",
        "\n",
        "\n",
        "y_scores=cross_val_predict(sgd_clf, X_train, y_train_5, cv=3, method='decision_function')\n",
        "\n",
        "# 가능한 모든 임계값에서의 정밀도와 재현률을 반환하는 precision_recall_curve 함수 이용\n",
        "\n",
        "from sklearn.metrics import precision_recall_curve\n",
        "\n",
        "precisions, recalls, thresholds=precision_recall_curve(y_train_5, y_scores)\n",
        "\n",
        "def plot_precision_recall_vs_threshold(precisions, recalls, threshold):\n",
        "  plt.plot(thresholds, precisions[:-1], 'b--', label='정밀도')\n",
        "  plt.plot(thresholds, recalls[:-1], 'g--', label='재현률')\n",
        "  plt.legend()\n",
        "  plt.xlabel('임곗값')"
      ],
      "metadata": {
        "id": "kDfXel5z_iFu"
      },
      "execution_count": 21,
      "outputs": []
    },
    {
      "cell_type": "code",
      "source": [
        "plot_precision_recall_vs_threshold(precisions, recalls, thresholds)\n",
        "plt.show()"
      ],
      "metadata": {
        "colab": {
          "base_uri": "https://localhost:8080/",
          "height": 354
        },
        "id": "h9g-d1Li_iH3",
        "outputId": "f164d0ff-017d-427a-d5fa-958c11e9a419"
      },
      "execution_count": 22,
      "outputs": [
        {
          "output_type": "stream",
          "name": "stderr",
          "text": [
            "/usr/local/lib/python3.8/dist-packages/matplotlib/backends/backend_agg.py:214: RuntimeWarning: Glyph 8722 missing from current font.\n",
            "  font.set_text(s, 0.0, flags=flags)\n",
            "/usr/local/lib/python3.8/dist-packages/matplotlib/backends/backend_agg.py:183: RuntimeWarning: Glyph 8722 missing from current font.\n",
            "  font.set_text(s, 0, flags=flags)\n"
          ]
        },
        {
          "output_type": "display_data",
          "data": {
            "text/plain": [
              "<Figure size 432x288 with 1 Axes>"
            ],
            "image/png": "[encoded data removed]"
          },
          "metadata": {
            "needs_background": "light"
          }
        }
      ]
    },
    {
      "cell_type": "code",
      "source": [
        "plt.plot(recalls, precisions)\n",
        "plt.xlabel('재현률')\n",
        "plt.ylabel('정밀도')\n",
        "plt.grid()\n",
        "plt.show()\n"
      ],
      "metadata": {
        "colab": {
          "base_uri": "https://localhost:8080/",
          "height": 279
        },
        "id": "ioD4bQriT65C",
        "outputId": "1041a0f6-c902-4b54-9fdd-d0d1bdbbaa35"
      },
      "execution_count": 24,
      "outputs": [
        {
          "output_type": "display_data",
          "data": {
            "text/plain": [
              "<Figure size 432x288 with 1 Axes>"
            ],
            "image/png": "[encoded data removed]"
          },
          "metadata": {
            "needs_background": "light"
          }
        }
      ]
    },
    {
      "cell_type": "code",
      "source": [
        "# 정밀도 90%가 되는 첫번째 True 값. 즉 조건이 True가 되는 첫번째 인덱스\n",
        "\n",
        "threshold_90_precision=thresholds[np.argmax(precisions>=0.90)]\n",
        "\n",
        "# 정밀도 90%가 되는 분류기\n",
        "# 내가 원하는 정밀도를 가지는 분류기를 만들 수 있다\n",
        "# 임계값보다 결정함수 값이 높은 경우만을 True로 반환하는 타겟 값 설정\n",
        "\n",
        "y_train_pred_90=(y_scores>=threshold_90_precision) \n",
        "print(precision_score(y_train_5, y_train_pred_90))\n",
        "print(recall_score(y_train_5, y_train_pred_90))"
      ],
      "metadata": {
        "colab": {
          "base_uri": "https://localhost:8080/"
        },
        "id": "YBwgRpp1_iKB",
        "outputId": "128fb6b0-f5c7-4e0c-be28-b4759910f016"
      },
      "execution_count": 27,
      "outputs": [
        {
          "output_type": "stream",
          "name": "stdout",
          "text": [
            "0.9000345901072293\n",
            "0.4799852425751706\n"
          ]
        }
      ]
    },
    {
      "cell_type": "code",
      "source": [
        "from sklearn.metrics import roc_curve\n",
        "\n",
        "fpr, tpr, thresholds = roc_curve(y_train_5, y_scores)\n",
        "\n",
        "def plot_roc_curve(fpr, tpr, label=None):\n",
        "  plt.plot(fpr,tpr,linewidth=2, label=label)\n",
        "  plt.plot([0,1],[0,1],'k--')\n",
        "  plt.grid()\n",
        "  plt.xlabel('거짓 양성 비율')\n",
        "  plt.ylabel('진짜 양성 비율(재현율)')"
      ],
      "metadata": {
        "id": "Oa5KDZBaXe0a"
      },
      "execution_count": 32,
      "outputs": []
    },
    {
      "cell_type": "code",
      "source": [
        "plot_roc_curve(fpr,tpr)\n",
        "plt.savefig('ROC 그래프.png')"
      ],
      "metadata": {
        "colab": {
          "base_uri": "https://localhost:8080/",
          "height": 279
        },
        "id": "lm8v9jlLZS1w",
        "outputId": "92f845ed-ebb0-4870-d342-1fc8e28d9d2a"
      },
      "execution_count": 36,
      "outputs": [
        {
          "output_type": "display_data",
          "data": {
            "text/plain": [
              "<Figure size 432x288 with 1 Axes>"
            ],
            "image/png": "[encoded data removed]"
          },
          "metadata": {
            "needs_background": "light"
          }
        }
      ]
    },
    {
      "cell_type": "code",
      "source": [
        "from sklearn.metrics import roc_auc_score\n",
        "roc_auc_score(y_train_5, y_scores)"
      ],
      "metadata": {
        "colab": {
          "base_uri": "https://localhost:8080/"
        },
        "id": "AMT_Aofdb7Ci",
        "outputId": "55e72815-5039-4d58-9e47-86917287c6b2"
      },
      "execution_count": 37,
      "outputs": [
        {
          "output_type": "execute_result",
          "data": {
            "text/plain": [
              "0.9604938554008616"
            ]
          },
          "metadata": {},
          "execution_count": 37
        }
      ]
    },
    {
      "cell_type": "code",
      "source": [
        "from sklearn.ensemble import RandomForestClassifier\n",
        "\n",
        "forest_clf=RandomForestClassifier(random_state=42)\n",
        "y_probas_forest=cross_val_predict(forest_clf, X_train, y_train_5, cv=3, method='predict_proba')"
      ],
      "metadata": {
        "id": "SlMZyD-Rb7E7"
      },
      "execution_count": 38,
      "outputs": []
    },
    {
      "cell_type": "code",
      "source": [
        "# 양성 클래스 확률을 점수로 사용\n",
        "\n",
        "y_scores_forest=y_probas_forest[:,1]\n",
        "fpr_forest, tpr_forest, thresholds_forest=roc_curve(y_train_5, y_scores_forest)\n",
        "\n",
        "\n",
        "# 그래프를 보면 랜덤 포레스트 분류기가 SGD보다 훨씬 좋은(더 좌상단에 위치한) 것을 볼 수 있음\n",
        "# 이는 그래프 밑 면적(AUC)가 높다는 뜻\n",
        "plt.plot(fpr, tpr, \"b:\", label='SGD')\n",
        "plot_roc_curve(fpr_forest, tpr_forest, '랜덤 포레스트')\n",
        "plt.legend(loc='lower right')\n",
        "plt.show()"
      ],
      "metadata": {
        "colab": {
          "base_uri": "https://localhost:8080/",
          "height": 279
        },
        "id": "8oBEu4FfdEe1",
        "outputId": "74bd141a-74d8-4fbb-9400-ab45ddc3e45c"
      },
      "execution_count": 40,
      "outputs": [
        {
          "output_type": "display_data",
          "data": {
            "text/plain": [
              "<Figure size 432x288 with 1 Axes>"
            ],
            "image/png": "[encoded data removed]"
          },
          "metadata": {
            "needs_background": "light"
          }
        }
      ]
    },
    {
      "cell_type": "code",
      "source": [
        "roc_auc_score(y_train_5, y_scores_forest)"
      ],
      "metadata": {
        "colab": {
          "base_uri": "https://localhost:8080/"
        },
        "id": "ZEBLgIN5eQcO",
        "outputId": "2286a3e8-f731-4419-b89a-e2a1f9b8754c"
      },
      "execution_count": 41,
      "outputs": [
        {
          "output_type": "execute_result",
          "data": {
            "text/plain": [
              "0.9983436731328145"
            ]
          },
          "metadata": {},
          "execution_count": 41
        }
      ]
    }
  ]
}