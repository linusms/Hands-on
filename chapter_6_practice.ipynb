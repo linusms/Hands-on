{
  "nbformat": 4,
  "nbformat_minor": 0,
  "metadata": {
    "colab": {
      "provenance": [],
      "authorship_tag": "ABX9TyP1bTMdSN0zgRCdmBU1okIt",
      "include_colab_link": true
    },
    "kernelspec": {
      "name": "python3",
      "display_name": "Python 3"
    },
    "language_info": {
      "name": "python"
    }
  },
  "cells": [
    {
      "cell_type": "markdown",
      "metadata": {
        "id": "view-in-github",
        "colab_type": "text"
      },
      "source": [
        "<a href=\"https://colab.research.google.com/github/linusms/Hands-on/blob/main/chapter_6_practice.ipynb\" target=\"_parent\"><img src=\"https://colab.research.google.com/assets/colab-badge.svg\" alt=\"Open In Colab\"/></a>"
      ]
    },
    {
      "cell_type": "code",
      "execution_count": null,
      "metadata": {
        "id": "5TcRK-94iebn"
      },
      "outputs": [],
      "source": [
        "# 1. moons 데이터셋에 결정 트리를 훈련시키고 튜닝하기"
      ]
    },
    {
      "cell_type": "code",
      "source": [
        "# 데이터셋 생성, train,test 데이터셋 분류\n",
        "\n",
        "from sklearn.model_selection import train_test_split\n",
        "from sklearn.datasets import make_moons\n",
        "import matplotlib.pyplot as plt\n",
        "import numpy as np\n",
        "import pandas as pd\n",
        "\n",
        "X, y=make_moons(n_samples=10000, noise=0.4)\n",
        "\n",
        "X_train, X_test, y_train, y_test = train_test_split(X,y, test_size=0.2, random_state=42)"
      ],
      "metadata": {
        "id": "RsSO9eKGkmjz"
      },
      "execution_count": 22,
      "outputs": []
    },
    {
      "cell_type": "code",
      "source": [
        "print(X_train, y_train)\n"
      ],
      "metadata": {
        "colab": {
          "base_uri": "https://localhost:8080/"
        },
        "id": "Wl0RYFqJDin5",
        "outputId": "8eaae372-b8c0-4462-c019-7dcc36225070"
      },
      "execution_count": 29,
      "outputs": [
        {
          "output_type": "stream",
          "name": "stdout",
          "text": [
            "[[-0.65737184  0.75578113]\n",
            " [ 2.1946086  -0.34718854]\n",
            " [ 1.02584037 -0.98042004]\n",
            " ...\n",
            " [-0.45982048  0.76889171]\n",
            " [-0.13168496 -0.80984747]\n",
            " [ 1.00088039  0.81169244]] [0 1 1 ... 0 1 0]\n"
          ]
        }
      ]
    },
    {
      "cell_type": "code",
      "source": [
        "# 결정트리 분류기 생성, 임의의 파라미터로 학습\n",
        "\n",
        "from sklearn.tree import DecisionTreeClassifier\n",
        "from sklearn.model_selection import cross_val_score\n",
        "\n",
        "tree_clf=DecisionTreeClassifier(max_depth=5, max_leaf_nodes=10)\n",
        "\n",
        "scores=cross_val_score(tree_clf,X_train, y_train, cv=5).mean()\n",
        "print(scores)"
      ],
      "metadata": {
        "colab": {
          "base_uri": "https://localhost:8080/"
        },
        "id": "mzOo9yQOkmoi",
        "outputId": "d413ba04-9c8f-44f0-ffad-7af137e25485"
      },
      "execution_count": 2,
      "outputs": [
        {
          "output_type": "stream",
          "name": "stdout",
          "text": [
            "0.845375\n"
          ]
        }
      ]
    },
    {
      "cell_type": "code",
      "source": [
        "# GridSearchCV를 사용해 최적 파라미터 찾기\n",
        "\n",
        "from sklearn.model_selection import GridSearchCV\n",
        "\n",
        "tree_params=[{'max_depth':list(range(2,20)),'max_leaf_nodes':list(range(2,100)), \n",
        "              'min_samples_split':[2,3,4]}]\n",
        "gridsearch=GridSearchCV(DecisionTreeClassifier(), tree_params, cv=3, verbose=1)\n",
        "gridsearch.fit(X_train,y_train)\n",
        "\n",
        "print(gridsearch.best_params_)\n",
        "print(gridsearch.best_score_)"
      ],
      "metadata": {
        "colab": {
          "base_uri": "https://localhost:8080/"
        },
        "id": "v3ucry6Bkmqy",
        "outputId": "5ebd5303-ea1f-4428-ad19-562f393a0cfb"
      },
      "execution_count": 3,
      "outputs": [
        {
          "output_type": "stream",
          "name": "stdout",
          "text": [
            "Fitting 3 folds for each of 5292 candidates, totalling 15876 fits\n",
            "{'max_depth': 6, 'max_leaf_nodes': 21, 'min_samples_split': 2}\n",
            "0.8537501829525622\n"
          ]
        }
      ]
    },
    {
      "cell_type": "code",
      "source": [
        "# 최적 파라미터로 테스트 세트 평가 - 대략 \n",
        "from sklearn.metrics import accuracy_score\n",
        "\n",
        "tree_clf=DecisionTreeClassifier(max_leaf_nodes=11)\n",
        "tree_clf.fit(X_train, y_train)\n",
        "\n",
        "y_pred=tree_clf.predict(X_test)\n",
        "accuracy_score(y_test,y_pred)"
      ],
      "metadata": {
        "colab": {
          "base_uri": "https://localhost:8080/"
        },
        "id": "THx9Qv0hkmtK",
        "outputId": "0d257c56-daf3-4581-90a6-76c6183ab75d"
      },
      "execution_count": 5,
      "outputs": [
        {
          "output_type": "execute_result",
          "data": {
            "text/plain": [
              "0.8615"
            ]
          },
          "metadata": {},
          "execution_count": 5
        }
      ]
    },
    {
      "cell_type": "code",
      "source": [
        "from sklearn.metrics import accuracy_score\n",
        "\n",
        "y_pred = gridsearch.predict(X_test)\n",
        "accuracy_score(y_test, y_pred)"
      ],
      "metadata": {
        "colab": {
          "base_uri": "https://localhost:8080/"
        },
        "id": "uGHt7x3Wkmvc",
        "outputId": "5abb06a9-4f68-4ccb-99f9-c097eff2a167"
      },
      "execution_count": 4,
      "outputs": [
        {
          "output_type": "execute_result",
          "data": {
            "text/plain": [
              "0.862"
            ]
          },
          "metadata": {},
          "execution_count": 4
        }
      ]
    },
    {
      "cell_type": "code",
      "source": [
        "# 2. 단계를 따라 랜덤 포레스트 만들어보기"
      ],
      "metadata": {
        "id": "hdTMSJj5km04"
      },
      "execution_count": null,
      "outputs": []
    },
    {
      "cell_type": "code",
      "source": [
        "# 1000개의 미니 훈련 세트가 100개의 샘플을 담도록 쪼개기\n",
        "# 100개로 훈련한 모델이 9900개의 샘플의 답을 예측함(성능 낮음)\n",
        "\n",
        "from sklearn.model_selection import ShuffleSplit\n",
        "\n",
        "rs=ShuffleSplit(n_splits=1000, random_state=42, train_size=0.01)\n",
        "mini_sets=[]\n",
        "\n",
        "for mini_train_index, mini_test_index in rs.split(X_train):\n",
        "  X_mini_train=X_train[mini_train_index]\n",
        "  y_mini_train=y_train[mini_train_index]\n",
        "  mini_sets.append((X_mini_train, y_mini_train))\n"
      ],
      "metadata": {
        "id": "HE1SWQdKzmNe"
      },
      "execution_count": 9,
      "outputs": []
    },
    {
      "cell_type": "code",
      "source": [
        "# 앞서 구한 최적의 결정 트리로 각 미니 훈련 세트의 훈련 진행\n",
        "\n",
        "from sklearn.base import clone\n",
        "\n",
        "forest = [clone(gridsearch.best_estimator_) for _ in range(1000)]\n",
        "\n",
        "accuracy_scores = []\n",
        "\n",
        "for tree, (X_mini_train, y_mini_train) in zip(forest, mini_sets):\n",
        "    tree.fit(X_mini_train, y_mini_train)\n",
        "    \n",
        "    y_pred = tree.predict(X_test)\n",
        "    accuracy_scores.append(accuracy_score(y_test, y_pred))\n",
        "\n",
        "np.mean(accuracy_scores)"
      ],
      "metadata": {
        "colab": {
          "base_uri": "https://localhost:8080/"
        },
        "id": "a4JkOCf7_siK",
        "outputId": "71166027-86a7-4041-dd50-9ead170360c7"
      },
      "execution_count": 16,
      "outputs": [
        {
          "output_type": "execute_result",
          "data": {
            "text/plain": [
              "0.7912655"
            ]
          },
          "metadata": {},
          "execution_count": 16
        }
      ]
    },
    {
      "cell_type": "code",
      "source": [
        "# 1000개의 예측값들 중 가장 많이 나온 것만 취합\n",
        "# 다수결 예측 분류기 생성 완료\n",
        "\n",
        "# Y_pred : 예측값들 모은 배열\n",
        "Y_pred = np.empty([1000, len(X_test)], dtype=np.uint8)\n",
        "\n",
        "for tree_index, tree in enumerate(forest):\n",
        "    Y_pred[tree_index] = tree.predict(X_test)\n",
        "\n",
        "print(Y_pred.shape)\n",
        "\n",
        "from scipy.stats import mode\n",
        "\n",
        "# y_pred_majority_votes는 각 열(axis=0)에서 최빈값인 값들을 모아놓은 배열\n",
        "# 즉 2000개의 테스트 세트에 대해 예측한 각 값들 중 각 트리(1000개)에서 최빈값들만 모아놓음 \n",
        "# n_votes는 각 행에서 해당 최빈값이 얼마나 나왔는지 카운트 \n",
        "# (ex. 테스트셋[0]의 클래스는 1000개의 트리 중 849개에서 1로 예측)\n",
        "y_pred_majority_votes, n_votes = mode(Y_pred, axis=0)\n",
        "print(y_pred_majority_votes, n_votes)"
      ],
      "metadata": {
        "colab": {
          "base_uri": "https://localhost:8080/"
        },
        "id": "dy1q41Vs_v-Y",
        "outputId": "3cf4f19c-b033-4163-afad-01bced687e34"
      },
      "execution_count": 31,
      "outputs": [
        {
          "output_type": "stream",
          "name": "stdout",
          "text": [
            "(1000, 2000)\n",
            "[[1 1 0 ... 0 1 1]] [[849 961 908 ... 920 954 871]]\n"
          ]
        }
      ]
    },
    {
      "cell_type": "code",
      "source": [
        "# 정확도가 앞서보다 조금 높게 나옴\n",
        "# 이게 랜덤 포레스트의 기본 원리\n",
        "\n",
        "accuracy_score(y_test, y_pred_majority_votes.reshape([-1]))"
      ],
      "metadata": {
        "colab": {
          "base_uri": "https://localhost:8080/"
        },
        "id": "hvf9_yg2AV4a",
        "outputId": "a8635a65-2652-4b96-d1ad-8097f3eece55"
      },
      "execution_count": 14,
      "outputs": [
        {
          "output_type": "execute_result",
          "data": {
            "text/plain": [
              "0.865"
            ]
          },
          "metadata": {},
          "execution_count": 14
        }
      ]
    }
  ]
}